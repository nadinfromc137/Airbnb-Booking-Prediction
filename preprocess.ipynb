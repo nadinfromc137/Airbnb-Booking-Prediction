{
 "cells": [
  {
   "cell_type": "code",
   "execution_count": 1,
   "metadata": {},
   "outputs": [],
   "source": [
    "import pandas as pd\n",
    "import matplotlib.pyplot as plt\n",
    "import numpy as np\n",
    "import sklearn as sk\n",
    "import datetime\n",
    "import seaborn as sns\n",
    "from datetime import date\n"
   ]
  },
  {
   "cell_type": "code",
   "execution_count": 2,
   "metadata": {},
   "outputs": [],
   "source": [
    "#anaconda --version "
   ]
  },
  {
   "cell_type": "code",
   "execution_count": 3,
   "metadata": {},
   "outputs": [],
   "source": [
    "#import seaborn as sns\n",
    "#import sklearn as sk"
   ]
  },
  {
   "cell_type": "code",
   "execution_count": 4,
   "metadata": {},
   "outputs": [
    {
     "name": "stdout",
     "output_type": "stream",
     "text": [
      "100+     20\n",
      "50-54    20\n",
      "15-19    20\n",
      "20-24    20\n",
      "25-29    20\n",
      "30-34    20\n",
      "35-39    20\n",
      "40-44    20\n",
      "45-49    20\n",
      "55-59    20\n",
      "95-99    20\n",
      "60-64    20\n",
      "65-69    20\n",
      "70-74    20\n",
      "75-79    20\n",
      "80-84    20\n",
      "85-89    20\n",
      "90-94    20\n",
      "0-4      20\n",
      "Name: age_bucket, dtype: int64\n"
     ]
    }
   ],
   "source": [
    "age_gender_df = pd.read_csv('age_gender_bkts.csv/age_gender_bkts.csv')\n",
    "age_gender_df\n",
    "nanCount = age_gender_df.isnull().sum()\n",
    "#print(nanCount)\n",
    "print(age_gender_df['age_bucket'].value_counts())\n"
   ]
  },
  {
   "cell_type": "code",
   "execution_count": 5,
   "metadata": {},
   "outputs": [
    {
     "data": {
      "text/html": [
       "<div>\n",
       "<style scoped>\n",
       "    .dataframe tbody tr th:only-of-type {\n",
       "        vertical-align: middle;\n",
       "    }\n",
       "\n",
       "    .dataframe tbody tr th {\n",
       "        vertical-align: top;\n",
       "    }\n",
       "\n",
       "    .dataframe thead th {\n",
       "        text-align: right;\n",
       "    }\n",
       "</style>\n",
       "<table border=\"1\" class=\"dataframe\">\n",
       "  <thead>\n",
       "    <tr style=\"text-align: right;\">\n",
       "      <th></th>\n",
       "      <th>country_destination</th>\n",
       "      <th>lat_destination</th>\n",
       "      <th>lng_destination</th>\n",
       "      <th>distance_km</th>\n",
       "      <th>destination_km2</th>\n",
       "      <th>destination_language</th>\n",
       "      <th>language_levenshtein_distance</th>\n",
       "    </tr>\n",
       "  </thead>\n",
       "  <tbody>\n",
       "    <tr>\n",
       "      <th>0</th>\n",
       "      <td>AU</td>\n",
       "      <td>-26.853388</td>\n",
       "      <td>133.275160</td>\n",
       "      <td>15297.7440</td>\n",
       "      <td>7741220.0</td>\n",
       "      <td>eng</td>\n",
       "      <td>0.00</td>\n",
       "    </tr>\n",
       "    <tr>\n",
       "      <th>1</th>\n",
       "      <td>CA</td>\n",
       "      <td>62.393303</td>\n",
       "      <td>-96.818146</td>\n",
       "      <td>2828.1333</td>\n",
       "      <td>9984670.0</td>\n",
       "      <td>eng</td>\n",
       "      <td>0.00</td>\n",
       "    </tr>\n",
       "    <tr>\n",
       "      <th>2</th>\n",
       "      <td>DE</td>\n",
       "      <td>51.165707</td>\n",
       "      <td>10.452764</td>\n",
       "      <td>7879.5680</td>\n",
       "      <td>357022.0</td>\n",
       "      <td>deu</td>\n",
       "      <td>72.61</td>\n",
       "    </tr>\n",
       "    <tr>\n",
       "      <th>3</th>\n",
       "      <td>ES</td>\n",
       "      <td>39.896027</td>\n",
       "      <td>-2.487694</td>\n",
       "      <td>7730.7240</td>\n",
       "      <td>505370.0</td>\n",
       "      <td>spa</td>\n",
       "      <td>92.25</td>\n",
       "    </tr>\n",
       "    <tr>\n",
       "      <th>4</th>\n",
       "      <td>FR</td>\n",
       "      <td>46.232193</td>\n",
       "      <td>2.209667</td>\n",
       "      <td>7682.9450</td>\n",
       "      <td>643801.0</td>\n",
       "      <td>fra</td>\n",
       "      <td>92.06</td>\n",
       "    </tr>\n",
       "    <tr>\n",
       "      <th>5</th>\n",
       "      <td>GB</td>\n",
       "      <td>54.633220</td>\n",
       "      <td>-3.432277</td>\n",
       "      <td>6883.6590</td>\n",
       "      <td>243610.0</td>\n",
       "      <td>eng</td>\n",
       "      <td>0.00</td>\n",
       "    </tr>\n",
       "    <tr>\n",
       "      <th>6</th>\n",
       "      <td>IT</td>\n",
       "      <td>41.873990</td>\n",
       "      <td>12.564167</td>\n",
       "      <td>8636.6310</td>\n",
       "      <td>301340.0</td>\n",
       "      <td>ita</td>\n",
       "      <td>89.40</td>\n",
       "    </tr>\n",
       "    <tr>\n",
       "      <th>7</th>\n",
       "      <td>NL</td>\n",
       "      <td>52.133057</td>\n",
       "      <td>5.295250</td>\n",
       "      <td>7524.3203</td>\n",
       "      <td>41543.0</td>\n",
       "      <td>nld</td>\n",
       "      <td>63.22</td>\n",
       "    </tr>\n",
       "    <tr>\n",
       "      <th>8</th>\n",
       "      <td>PT</td>\n",
       "      <td>39.553444</td>\n",
       "      <td>-7.839319</td>\n",
       "      <td>7355.2534</td>\n",
       "      <td>92090.0</td>\n",
       "      <td>por</td>\n",
       "      <td>95.45</td>\n",
       "    </tr>\n",
       "    <tr>\n",
       "      <th>9</th>\n",
       "      <td>US</td>\n",
       "      <td>36.966427</td>\n",
       "      <td>-95.844030</td>\n",
       "      <td>0.0000</td>\n",
       "      <td>9826675.0</td>\n",
       "      <td>eng</td>\n",
       "      <td>0.00</td>\n",
       "    </tr>\n",
       "  </tbody>\n",
       "</table>\n",
       "</div>"
      ],
      "text/plain": [
       "  country_destination  lat_destination  lng_destination  distance_km  \\\n",
       "0                  AU       -26.853388       133.275160   15297.7440   \n",
       "1                  CA        62.393303       -96.818146    2828.1333   \n",
       "2                  DE        51.165707        10.452764    7879.5680   \n",
       "3                  ES        39.896027        -2.487694    7730.7240   \n",
       "4                  FR        46.232193         2.209667    7682.9450   \n",
       "5                  GB        54.633220        -3.432277    6883.6590   \n",
       "6                  IT        41.873990        12.564167    8636.6310   \n",
       "7                  NL        52.133057         5.295250    7524.3203   \n",
       "8                  PT        39.553444        -7.839319    7355.2534   \n",
       "9                  US        36.966427       -95.844030       0.0000   \n",
       "\n",
       "   destination_km2 destination_language   language_levenshtein_distance  \n",
       "0        7741220.0                   eng                           0.00  \n",
       "1        9984670.0                   eng                           0.00  \n",
       "2         357022.0                   deu                          72.61  \n",
       "3         505370.0                   spa                          92.25  \n",
       "4         643801.0                   fra                          92.06  \n",
       "5         243610.0                   eng                           0.00  \n",
       "6         301340.0                   ita                          89.40  \n",
       "7          41543.0                   nld                          63.22  \n",
       "8          92090.0                   por                          95.45  \n",
       "9        9826675.0                   eng                           0.00  "
      ]
     },
     "execution_count": 5,
     "metadata": {},
     "output_type": "execute_result"
    }
   ],
   "source": [
    "countries_df =  pd.read_csv('countries.csv\\countries.csv')\n",
    "countries_df"
   ]
  },
  {
   "cell_type": "code",
   "execution_count": 6,
   "metadata": {},
   "outputs": [
    {
     "data": {
      "text/html": [
       "<div>\n",
       "<style scoped>\n",
       "    .dataframe tbody tr th:only-of-type {\n",
       "        vertical-align: middle;\n",
       "    }\n",
       "\n",
       "    .dataframe tbody tr th {\n",
       "        vertical-align: top;\n",
       "    }\n",
       "\n",
       "    .dataframe thead th {\n",
       "        text-align: right;\n",
       "    }\n",
       "</style>\n",
       "<table border=\"1\" class=\"dataframe\">\n",
       "  <thead>\n",
       "    <tr style=\"text-align: right;\">\n",
       "      <th></th>\n",
       "      <th>user_id</th>\n",
       "      <th>action</th>\n",
       "      <th>action_type</th>\n",
       "      <th>action_detail</th>\n",
       "      <th>device_type</th>\n",
       "      <th>secs_elapsed</th>\n",
       "    </tr>\n",
       "  </thead>\n",
       "  <tbody>\n",
       "    <tr>\n",
       "      <th>0</th>\n",
       "      <td>d1mm9tcy42</td>\n",
       "      <td>lookup</td>\n",
       "      <td>NaN</td>\n",
       "      <td>NaN</td>\n",
       "      <td>Windows Desktop</td>\n",
       "      <td>319.0</td>\n",
       "    </tr>\n",
       "    <tr>\n",
       "      <th>1</th>\n",
       "      <td>d1mm9tcy42</td>\n",
       "      <td>search_results</td>\n",
       "      <td>click</td>\n",
       "      <td>view_search_results</td>\n",
       "      <td>Windows Desktop</td>\n",
       "      <td>67753.0</td>\n",
       "    </tr>\n",
       "    <tr>\n",
       "      <th>2</th>\n",
       "      <td>d1mm9tcy42</td>\n",
       "      <td>lookup</td>\n",
       "      <td>NaN</td>\n",
       "      <td>NaN</td>\n",
       "      <td>Windows Desktop</td>\n",
       "      <td>301.0</td>\n",
       "    </tr>\n",
       "    <tr>\n",
       "      <th>3</th>\n",
       "      <td>d1mm9tcy42</td>\n",
       "      <td>search_results</td>\n",
       "      <td>click</td>\n",
       "      <td>view_search_results</td>\n",
       "      <td>Windows Desktop</td>\n",
       "      <td>22141.0</td>\n",
       "    </tr>\n",
       "    <tr>\n",
       "      <th>4</th>\n",
       "      <td>d1mm9tcy42</td>\n",
       "      <td>lookup</td>\n",
       "      <td>NaN</td>\n",
       "      <td>NaN</td>\n",
       "      <td>Windows Desktop</td>\n",
       "      <td>435.0</td>\n",
       "    </tr>\n",
       "    <tr>\n",
       "      <th>...</th>\n",
       "      <td>...</td>\n",
       "      <td>...</td>\n",
       "      <td>...</td>\n",
       "      <td>...</td>\n",
       "      <td>...</td>\n",
       "      <td>...</td>\n",
       "    </tr>\n",
       "    <tr>\n",
       "      <th>10567732</th>\n",
       "      <td>9uqfg8txu3</td>\n",
       "      <td>dashboard</td>\n",
       "      <td>view</td>\n",
       "      <td>dashboard</td>\n",
       "      <td>Windows Desktop</td>\n",
       "      <td>556.0</td>\n",
       "    </tr>\n",
       "    <tr>\n",
       "      <th>10567733</th>\n",
       "      <td>9uqfg8txu3</td>\n",
       "      <td>edit</td>\n",
       "      <td>view</td>\n",
       "      <td>edit_profile</td>\n",
       "      <td>Windows Desktop</td>\n",
       "      <td>6624.0</td>\n",
       "    </tr>\n",
       "    <tr>\n",
       "      <th>10567734</th>\n",
       "      <td>9uqfg8txu3</td>\n",
       "      <td>webcam_upload</td>\n",
       "      <td>-unknown-</td>\n",
       "      <td>-unknown-</td>\n",
       "      <td>Windows Desktop</td>\n",
       "      <td>200125.0</td>\n",
       "    </tr>\n",
       "    <tr>\n",
       "      <th>10567735</th>\n",
       "      <td>9uqfg8txu3</td>\n",
       "      <td>active</td>\n",
       "      <td>-unknown-</td>\n",
       "      <td>-unknown-</td>\n",
       "      <td>-unknown-</td>\n",
       "      <td>17624.0</td>\n",
       "    </tr>\n",
       "    <tr>\n",
       "      <th>10567736</th>\n",
       "      <td>9uqfg8txu3</td>\n",
       "      <td>show_personalize</td>\n",
       "      <td>data</td>\n",
       "      <td>user_profile_content_update</td>\n",
       "      <td>Windows Desktop</td>\n",
       "      <td>1221.0</td>\n",
       "    </tr>\n",
       "  </tbody>\n",
       "</table>\n",
       "<p>10567737 rows × 6 columns</p>\n",
       "</div>"
      ],
      "text/plain": [
       "             user_id            action action_type  \\\n",
       "0         d1mm9tcy42            lookup         NaN   \n",
       "1         d1mm9tcy42    search_results       click   \n",
       "2         d1mm9tcy42            lookup         NaN   \n",
       "3         d1mm9tcy42    search_results       click   \n",
       "4         d1mm9tcy42            lookup         NaN   \n",
       "...              ...               ...         ...   \n",
       "10567732  9uqfg8txu3         dashboard        view   \n",
       "10567733  9uqfg8txu3              edit        view   \n",
       "10567734  9uqfg8txu3     webcam_upload   -unknown-   \n",
       "10567735  9uqfg8txu3            active   -unknown-   \n",
       "10567736  9uqfg8txu3  show_personalize        data   \n",
       "\n",
       "                        action_detail      device_type  secs_elapsed  \n",
       "0                                 NaN  Windows Desktop         319.0  \n",
       "1                 view_search_results  Windows Desktop       67753.0  \n",
       "2                                 NaN  Windows Desktop         301.0  \n",
       "3                 view_search_results  Windows Desktop       22141.0  \n",
       "4                                 NaN  Windows Desktop         435.0  \n",
       "...                               ...              ...           ...  \n",
       "10567732                    dashboard  Windows Desktop         556.0  \n",
       "10567733                 edit_profile  Windows Desktop        6624.0  \n",
       "10567734                    -unknown-  Windows Desktop      200125.0  \n",
       "10567735                    -unknown-        -unknown-       17624.0  \n",
       "10567736  user_profile_content_update  Windows Desktop        1221.0  \n",
       "\n",
       "[10567737 rows x 6 columns]"
      ]
     },
     "execution_count": 6,
     "metadata": {},
     "output_type": "execute_result"
    }
   ],
   "source": [
    "sessions_dfm = pd.read_csv('sessions.csv\\sessions.csv')\n",
    "sessions_dfm\n",
    "# 10567737 rows × 6 columns"
   ]
  },
  {
   "cell_type": "code",
   "execution_count": 7,
   "metadata": {},
   "outputs": [
    {
     "name": "stdout",
     "output_type": "stream",
     "text": [
      "show              2768278\n",
      "index              843699\n",
      "search_results     725226\n",
      "personalize        706824\n",
      "search             536057\n",
      "                   ...   \n",
      "deauthorize             1\n",
      "events                  1\n",
      "reactivate              1\n",
      "desks                   1\n",
      "nyan                    1\n",
      "Name: action, Length: 359, dtype: int64\n"
     ]
    }
   ],
   "source": [
    "print(sessions_dfm['action'].value_counts())"
   ]
  },
  {
   "cell_type": "code",
   "execution_count": 8,
   "metadata": {},
   "outputs": [
    {
     "name": "stdout",
     "output_type": "stream",
     "text": [
      "view                3560902\n",
      "data                2103770\n",
      "click               1996183\n",
      "-unknown-           1031170\n",
      "submit               623357\n",
      "message_post          87103\n",
      "partner_callback      19132\n",
      "booking_request       18773\n",
      "modify                 1139\n",
      "booking_response          4\n",
      "Name: action_type, dtype: int64\n"
     ]
    }
   ],
   "source": [
    "print(sessions_dfm['action_type'].value_counts())"
   ]
  },
  {
   "cell_type": "code",
   "execution_count": 9,
   "metadata": {},
   "outputs": [
    {
     "name": "stdout",
     "output_type": "stream",
     "text": [
      "view_search_results         1776885\n",
      "p3                          1376550\n",
      "-unknown-                   1031141\n",
      "wishlist_content_update      706824\n",
      "user_profile                 656839\n",
      "                             ...   \n",
      "special_offer_field               3\n",
      "tos_2014                          2\n",
      "host_refund_guest                 2\n",
      "host_respond_page                 2\n",
      "host_standard_suspension          1\n",
      "Name: action_detail, Length: 155, dtype: int64\n"
     ]
    }
   ],
   "source": [
    "print(sessions_dfm['action_detail'].value_counts())"
   ]
  },
  {
   "cell_type": "code",
   "execution_count": 10,
   "metadata": {},
   "outputs": [
    {
     "name": "stdout",
     "output_type": "stream",
     "text": [
      "Mac Desktop                         3594286\n",
      "Windows Desktop                     2658539\n",
      "iPhone                              2105031\n",
      "Android Phone                        839637\n",
      "iPad Tablet                          683414\n",
      "Android App Unknown Phone/Tablet     273652\n",
      "-unknown-                            211279\n",
      "Tablet                               139886\n",
      "Linux Desktop                         28373\n",
      "Chromebook                            22348\n",
      "iPodtouch                              8198\n",
      "Windows Phone                          2047\n",
      "Blackberry                              979\n",
      "Opera Phone                              68\n",
      "Name: device_type, dtype: int64\n"
     ]
    }
   ],
   "source": [
    "print(sessions_dfm['device_type'].value_counts())"
   ]
  },
  {
   "cell_type": "code",
   "execution_count": 11,
   "metadata": {},
   "outputs": [
    {
     "name": "stdout",
     "output_type": "stream",
     "text": [
      "count    1.043171e+07\n",
      "mean     1.940581e+04\n",
      "std      8.888424e+04\n",
      "min      0.000000e+00\n",
      "25%      2.290000e+02\n",
      "50%      1.147000e+03\n",
      "75%      8.444000e+03\n",
      "max      1.799977e+06\n",
      "Name: secs_elapsed, dtype: float64\n"
     ]
    }
   ],
   "source": [
    "print(sessions_dfm['secs_elapsed'].describe())\n",
    "# Take log of seconds, too big of a range "
   ]
  },
  {
   "cell_type": "code",
   "execution_count": 12,
   "metadata": {},
   "outputs": [],
   "source": [
    "train_users_dfm = pd.read_csv('train_users.csv/train_users.csv', index_col=None)\n",
    "test_users_dfm = pd.read_csv('test_users.csv/test_users.csv', index_col=None)"
   ]
  },
  {
   "cell_type": "code",
   "execution_count": 13,
   "metadata": {},
   "outputs": [
    {
     "name": "stdout",
     "output_type": "stream",
     "text": [
      "The columns name of training dataset:\n",
      " Index(['id', 'date_account_created', 'timestamp_first_active',\n",
      "       'date_first_booking', 'gender', 'age', 'signup_method', 'signup_flow',\n",
      "       'language', 'affiliate_channel', 'affiliate_provider',\n",
      "       'first_affiliate_tracked', 'signup_app', 'first_device_type',\n",
      "       'first_browser', 'country_destination'],\n",
      "      dtype='object')\n",
      "The number of users is:  213451  with  16  features.\n"
     ]
    },
    {
     "data": {
      "text/html": [
       "<div>\n",
       "<style scoped>\n",
       "    .dataframe tbody tr th:only-of-type {\n",
       "        vertical-align: middle;\n",
       "    }\n",
       "\n",
       "    .dataframe tbody tr th {\n",
       "        vertical-align: top;\n",
       "    }\n",
       "\n",
       "    .dataframe thead th {\n",
       "        text-align: right;\n",
       "    }\n",
       "</style>\n",
       "<table border=\"1\" class=\"dataframe\">\n",
       "  <thead>\n",
       "    <tr style=\"text-align: right;\">\n",
       "      <th></th>\n",
       "      <th>id</th>\n",
       "      <th>date_account_created</th>\n",
       "      <th>timestamp_first_active</th>\n",
       "      <th>date_first_booking</th>\n",
       "      <th>gender</th>\n",
       "      <th>age</th>\n",
       "      <th>signup_method</th>\n",
       "      <th>signup_flow</th>\n",
       "      <th>language</th>\n",
       "      <th>affiliate_channel</th>\n",
       "      <th>affiliate_provider</th>\n",
       "      <th>first_affiliate_tracked</th>\n",
       "      <th>signup_app</th>\n",
       "      <th>first_device_type</th>\n",
       "      <th>first_browser</th>\n",
       "      <th>country_destination</th>\n",
       "    </tr>\n",
       "  </thead>\n",
       "  <tbody>\n",
       "    <tr>\n",
       "      <th>0</th>\n",
       "      <td>gxn3p5htnn</td>\n",
       "      <td>2010-06-28</td>\n",
       "      <td>20090319043255</td>\n",
       "      <td>NaN</td>\n",
       "      <td>-unknown-</td>\n",
       "      <td>NaN</td>\n",
       "      <td>facebook</td>\n",
       "      <td>0</td>\n",
       "      <td>en</td>\n",
       "      <td>direct</td>\n",
       "      <td>direct</td>\n",
       "      <td>untracked</td>\n",
       "      <td>Web</td>\n",
       "      <td>Mac Desktop</td>\n",
       "      <td>Chrome</td>\n",
       "      <td>NDF</td>\n",
       "    </tr>\n",
       "    <tr>\n",
       "      <th>1</th>\n",
       "      <td>820tgsjxq7</td>\n",
       "      <td>2011-05-25</td>\n",
       "      <td>20090523174809</td>\n",
       "      <td>NaN</td>\n",
       "      <td>MALE</td>\n",
       "      <td>38.0</td>\n",
       "      <td>facebook</td>\n",
       "      <td>0</td>\n",
       "      <td>en</td>\n",
       "      <td>seo</td>\n",
       "      <td>google</td>\n",
       "      <td>untracked</td>\n",
       "      <td>Web</td>\n",
       "      <td>Mac Desktop</td>\n",
       "      <td>Chrome</td>\n",
       "      <td>NDF</td>\n",
       "    </tr>\n",
       "    <tr>\n",
       "      <th>2</th>\n",
       "      <td>4ft3gnwmtx</td>\n",
       "      <td>2010-09-28</td>\n",
       "      <td>20090609231247</td>\n",
       "      <td>2010-08-02</td>\n",
       "      <td>FEMALE</td>\n",
       "      <td>56.0</td>\n",
       "      <td>basic</td>\n",
       "      <td>3</td>\n",
       "      <td>en</td>\n",
       "      <td>direct</td>\n",
       "      <td>direct</td>\n",
       "      <td>untracked</td>\n",
       "      <td>Web</td>\n",
       "      <td>Windows Desktop</td>\n",
       "      <td>IE</td>\n",
       "      <td>US</td>\n",
       "    </tr>\n",
       "    <tr>\n",
       "      <th>3</th>\n",
       "      <td>bjjt8pjhuk</td>\n",
       "      <td>2011-12-05</td>\n",
       "      <td>20091031060129</td>\n",
       "      <td>2012-09-08</td>\n",
       "      <td>FEMALE</td>\n",
       "      <td>42.0</td>\n",
       "      <td>facebook</td>\n",
       "      <td>0</td>\n",
       "      <td>en</td>\n",
       "      <td>direct</td>\n",
       "      <td>direct</td>\n",
       "      <td>untracked</td>\n",
       "      <td>Web</td>\n",
       "      <td>Mac Desktop</td>\n",
       "      <td>Firefox</td>\n",
       "      <td>other</td>\n",
       "    </tr>\n",
       "    <tr>\n",
       "      <th>4</th>\n",
       "      <td>87mebub9p4</td>\n",
       "      <td>2010-09-14</td>\n",
       "      <td>20091208061105</td>\n",
       "      <td>2010-02-18</td>\n",
       "      <td>-unknown-</td>\n",
       "      <td>41.0</td>\n",
       "      <td>basic</td>\n",
       "      <td>0</td>\n",
       "      <td>en</td>\n",
       "      <td>direct</td>\n",
       "      <td>direct</td>\n",
       "      <td>untracked</td>\n",
       "      <td>Web</td>\n",
       "      <td>Mac Desktop</td>\n",
       "      <td>Chrome</td>\n",
       "      <td>US</td>\n",
       "    </tr>\n",
       "    <tr>\n",
       "      <th>...</th>\n",
       "      <td>...</td>\n",
       "      <td>...</td>\n",
       "      <td>...</td>\n",
       "      <td>...</td>\n",
       "      <td>...</td>\n",
       "      <td>...</td>\n",
       "      <td>...</td>\n",
       "      <td>...</td>\n",
       "      <td>...</td>\n",
       "      <td>...</td>\n",
       "      <td>...</td>\n",
       "      <td>...</td>\n",
       "      <td>...</td>\n",
       "      <td>...</td>\n",
       "      <td>...</td>\n",
       "      <td>...</td>\n",
       "    </tr>\n",
       "    <tr>\n",
       "      <th>213446</th>\n",
       "      <td>zxodksqpep</td>\n",
       "      <td>2014-06-30</td>\n",
       "      <td>20140630235636</td>\n",
       "      <td>NaN</td>\n",
       "      <td>MALE</td>\n",
       "      <td>32.0</td>\n",
       "      <td>basic</td>\n",
       "      <td>0</td>\n",
       "      <td>en</td>\n",
       "      <td>sem-brand</td>\n",
       "      <td>google</td>\n",
       "      <td>omg</td>\n",
       "      <td>Web</td>\n",
       "      <td>Mac Desktop</td>\n",
       "      <td>Safari</td>\n",
       "      <td>NDF</td>\n",
       "    </tr>\n",
       "    <tr>\n",
       "      <th>213447</th>\n",
       "      <td>mhewnxesx9</td>\n",
       "      <td>2014-06-30</td>\n",
       "      <td>20140630235719</td>\n",
       "      <td>NaN</td>\n",
       "      <td>-unknown-</td>\n",
       "      <td>NaN</td>\n",
       "      <td>basic</td>\n",
       "      <td>0</td>\n",
       "      <td>en</td>\n",
       "      <td>direct</td>\n",
       "      <td>direct</td>\n",
       "      <td>linked</td>\n",
       "      <td>Web</td>\n",
       "      <td>Windows Desktop</td>\n",
       "      <td>Chrome</td>\n",
       "      <td>NDF</td>\n",
       "    </tr>\n",
       "    <tr>\n",
       "      <th>213448</th>\n",
       "      <td>6o3arsjbb4</td>\n",
       "      <td>2014-06-30</td>\n",
       "      <td>20140630235754</td>\n",
       "      <td>NaN</td>\n",
       "      <td>-unknown-</td>\n",
       "      <td>32.0</td>\n",
       "      <td>basic</td>\n",
       "      <td>0</td>\n",
       "      <td>en</td>\n",
       "      <td>direct</td>\n",
       "      <td>direct</td>\n",
       "      <td>untracked</td>\n",
       "      <td>Web</td>\n",
       "      <td>Mac Desktop</td>\n",
       "      <td>Firefox</td>\n",
       "      <td>NDF</td>\n",
       "    </tr>\n",
       "    <tr>\n",
       "      <th>213449</th>\n",
       "      <td>jh95kwisub</td>\n",
       "      <td>2014-06-30</td>\n",
       "      <td>20140630235822</td>\n",
       "      <td>NaN</td>\n",
       "      <td>-unknown-</td>\n",
       "      <td>NaN</td>\n",
       "      <td>basic</td>\n",
       "      <td>25</td>\n",
       "      <td>en</td>\n",
       "      <td>other</td>\n",
       "      <td>other</td>\n",
       "      <td>tracked-other</td>\n",
       "      <td>iOS</td>\n",
       "      <td>iPhone</td>\n",
       "      <td>Mobile Safari</td>\n",
       "      <td>NDF</td>\n",
       "    </tr>\n",
       "    <tr>\n",
       "      <th>213450</th>\n",
       "      <td>nw9fwlyb5f</td>\n",
       "      <td>2014-06-30</td>\n",
       "      <td>20140630235824</td>\n",
       "      <td>NaN</td>\n",
       "      <td>-unknown-</td>\n",
       "      <td>NaN</td>\n",
       "      <td>basic</td>\n",
       "      <td>25</td>\n",
       "      <td>en</td>\n",
       "      <td>direct</td>\n",
       "      <td>direct</td>\n",
       "      <td>untracked</td>\n",
       "      <td>iOS</td>\n",
       "      <td>iPhone</td>\n",
       "      <td>-unknown-</td>\n",
       "      <td>NDF</td>\n",
       "    </tr>\n",
       "  </tbody>\n",
       "</table>\n",
       "<p>213451 rows × 16 columns</p>\n",
       "</div>"
      ],
      "text/plain": [
       "                id date_account_created  timestamp_first_active  \\\n",
       "0       gxn3p5htnn           2010-06-28          20090319043255   \n",
       "1       820tgsjxq7           2011-05-25          20090523174809   \n",
       "2       4ft3gnwmtx           2010-09-28          20090609231247   \n",
       "3       bjjt8pjhuk           2011-12-05          20091031060129   \n",
       "4       87mebub9p4           2010-09-14          20091208061105   \n",
       "...            ...                  ...                     ...   \n",
       "213446  zxodksqpep           2014-06-30          20140630235636   \n",
       "213447  mhewnxesx9           2014-06-30          20140630235719   \n",
       "213448  6o3arsjbb4           2014-06-30          20140630235754   \n",
       "213449  jh95kwisub           2014-06-30          20140630235822   \n",
       "213450  nw9fwlyb5f           2014-06-30          20140630235824   \n",
       "\n",
       "       date_first_booking     gender   age signup_method  signup_flow  \\\n",
       "0                     NaN  -unknown-   NaN      facebook            0   \n",
       "1                     NaN       MALE  38.0      facebook            0   \n",
       "2              2010-08-02     FEMALE  56.0         basic            3   \n",
       "3              2012-09-08     FEMALE  42.0      facebook            0   \n",
       "4              2010-02-18  -unknown-  41.0         basic            0   \n",
       "...                   ...        ...   ...           ...          ...   \n",
       "213446                NaN       MALE  32.0         basic            0   \n",
       "213447                NaN  -unknown-   NaN         basic            0   \n",
       "213448                NaN  -unknown-  32.0         basic            0   \n",
       "213449                NaN  -unknown-   NaN         basic           25   \n",
       "213450                NaN  -unknown-   NaN         basic           25   \n",
       "\n",
       "       language affiliate_channel affiliate_provider first_affiliate_tracked  \\\n",
       "0            en            direct             direct               untracked   \n",
       "1            en               seo             google               untracked   \n",
       "2            en            direct             direct               untracked   \n",
       "3            en            direct             direct               untracked   \n",
       "4            en            direct             direct               untracked   \n",
       "...         ...               ...                ...                     ...   \n",
       "213446       en         sem-brand             google                     omg   \n",
       "213447       en            direct             direct                  linked   \n",
       "213448       en            direct             direct               untracked   \n",
       "213449       en             other              other           tracked-other   \n",
       "213450       en            direct             direct               untracked   \n",
       "\n",
       "       signup_app first_device_type  first_browser country_destination  \n",
       "0             Web       Mac Desktop         Chrome                 NDF  \n",
       "1             Web       Mac Desktop         Chrome                 NDF  \n",
       "2             Web   Windows Desktop             IE                  US  \n",
       "3             Web       Mac Desktop        Firefox               other  \n",
       "4             Web       Mac Desktop         Chrome                  US  \n",
       "...           ...               ...            ...                 ...  \n",
       "213446        Web       Mac Desktop         Safari                 NDF  \n",
       "213447        Web   Windows Desktop         Chrome                 NDF  \n",
       "213448        Web       Mac Desktop        Firefox                 NDF  \n",
       "213449        iOS            iPhone  Mobile Safari                 NDF  \n",
       "213450        iOS            iPhone      -unknown-                 NDF  \n",
       "\n",
       "[213451 rows x 16 columns]"
      ]
     },
     "execution_count": 13,
     "metadata": {},
     "output_type": "execute_result"
    }
   ],
   "source": [
    "# The training and testing data \n",
    "print('The columns name of training dataset:\\n',train_users_dfm.columns)\n",
    "print('The number of users is: ', train_users_dfm.shape[0], ' with ',len( train_users_dfm.columns ), ' features.')\n",
    "train_users_dfm"
   ]
  },
  {
   "cell_type": "code",
   "execution_count": 14,
   "metadata": {},
   "outputs": [
    {
     "name": "stdout",
     "output_type": "stream",
     "text": [
      "There are  87990  unknown ages.\n"
     ]
    }
   ],
   "source": [
    "# The number of unknown ages\n",
    "nanAges = train_users_dfm.age.isna().sum()\n",
    "print('There are ', nanAges, ' unknown ages.')"
   ]
  },
  {
   "cell_type": "code",
   "execution_count": 15,
   "metadata": {},
   "outputs": [
    {
     "name": "stdout",
     "output_type": "stream",
     "text": [
      "16 \n",
      "\n",
      " 16\n"
     ]
    },
    {
     "name": "stderr",
     "output_type": "stream",
     "text": [
      "c:\\Users\\nadin\\AppData\\Local\\Programs\\Python\\Python39\\lib\\site-packages\\seaborn\\_decorators.py:36: FutureWarning: Pass the following variables as keyword args: x, y. From version 0.12, the only valid positional argument will be `data`, and passing other arguments without an explicit keyword will result in an error or misinterpretation.\n",
      "  warnings.warn(\n"
     ]
    },
    {
     "data": {
      "text/plain": [
       "<AxesSubplot:>"
      ]
     },
     "execution_count": 15,
     "metadata": {},
     "output_type": "execute_result"
    },
    {
     "data": {
      "image/png": "[encoded data removed]",
      "text/plain": [
       "<Figure size 720x432 with 1 Axes>"
      ]
     },
     "metadata": {
      "needs_background": "light"
     },
     "output_type": "display_data"
    }
   ],
   "source": [
    "# In the age gender buckets, we have stats for every country, and each age bucket for these countries\n",
    "# These age buckets are of 5 intervals \n",
    "# Here we choose to have 15 intervals, and the unknown.\n",
    "train = train_users_dfm\n",
    "age_train =[train_users_dfm.age.isna().sum(),\n",
    "            train.query('age < 15').age.shape[0], train.query('age >= 15 & age <20').age.shape[0],\n",
    "            train.query('age >= 20 & age <25').age.shape[0], train.query('age >= 25 & age <30').age.shape[0],\n",
    "            train.query('age >= 30 & age <35').age.shape[0], train.query(\"age >= 35 & age <40\").age.shape[0],\n",
    "            train.query(\"age >= 40 & age <45\").age.shape[0], train.query(\"age >= 45 & age <50\").age.shape[0],\n",
    "            train.query(\"age >= 50 & age <55\").age.shape[0], train.query(\"age >= 55 & age <60\").age.shape[0],\n",
    "            train.query(\"age >= 60 & age <65\").age.shape[0], train.query(\"age >= 65 & age <70\").age.shape[0],\n",
    "            train.query(\"age >= 70 & age <75\").age.shape[0], train.query(\"age >= 75 & age <80\").age.shape[0],\n",
    "            train.query(\"age >= 80\").age.shape[0]]\n",
    "\n",
    "age_buckets_14 = ['Nan','<15', '15-19', '20-24', '25-29', '30-34','35-39', '40-44', '45-49', '50-54', '55-59', '60-64', '65-69', '70-74', '75-79', '80+']\n",
    "print(len(age_buckets_14), '\\n\\n', len(age_train))\n",
    "# plot\n",
    "fig = plt.figure(figsize=(10,6))\n",
    "sns.barplot(age_buckets_14, age_train)"
   ]
  },
  {
   "cell_type": "code",
   "execution_count": 16,
   "metadata": {},
   "outputs": [
    {
     "name": "stdout",
     "output_type": "stream",
     "text": [
      "[87990, 57, 10778, 55694, 30759, 14521, 7599, 2902, 481, 2670]\n"
     ]
    }
   ],
   "source": [
    "# In the age gender buckets, we have stats for every country, and each age bucket for these countries\n",
    "# These age buckets are of 5 intervals \n",
    "train = train_users_dfm\n",
    "age_train =[train_users_dfm.age.isna().sum(),\n",
    "            train.query('age < 15').age.shape[0], train.query('age >= 15 & age <25').age.shape[0],\n",
    "            train.query('age >= 25 & age <35').age.shape[0], train.query('age >= 35 & age <45').age.shape[0],\n",
    "            train.query('age >= 45 & age <55').age.shape[0], train.query(\"age >= 55 & age <65\").age.shape[0],\n",
    "            train.query(\"age >= 65 & age <75\").age.shape[0], train.query(\"age >= 75 & age <85\").age.shape[0],\n",
    "            train.query('age >= 85').age.shape[0]]\n",
    "\n",
    "\n",
    "print(age_train)"
   ]
  },
  {
   "cell_type": "code",
   "execution_count": 25,
   "metadata": {},
   "outputs": [
    {
     "name": "stderr",
     "output_type": "stream",
     "text": [
      "c:\\Users\\nadin\\AppData\\Local\\Programs\\Python\\Python39\\lib\\site-packages\\seaborn\\_decorators.py:36: FutureWarning: Pass the following variables as keyword args: x, y. From version 0.12, the only valid positional argument will be `data`, and passing other arguments without an explicit keyword will result in an error or misinterpretation.\n",
      "  warnings.warn(\n"
     ]
    },
    {
     "data": {
      "text/plain": [
       "<AxesSubplot:ylabel='gender'>"
      ]
     },
     "execution_count": 25,
     "metadata": {},
     "output_type": "execute_result"
    },
    {
     "data": {
      "image/png": "[encoded data removed]",
      "text/plain": [
       "<Figure size 720x432 with 1 Axes>"
      ]
     },
     "metadata": {
      "needs_background": "light"
     },
     "output_type": "display_data"
    }
   ],
   "source": [
    "genders = train_users_dfm['gender'].value_counts()\n",
    "# plot\n",
    "fig = plt.figure(figsize=(10,6))\n",
    "labels = ['Nan', 'Female', ' Male', 'OTHER']\n",
    "sns.barplot(labels, genders)\n"
   ]
  },
  {
   "cell_type": "code",
   "execution_count": 26,
   "metadata": {},
   "outputs": [],
   "source": [
    "def vizualizeFeatures(feature, df_train = train_users_dfm, df_test = test_users_dfm, figsize=(10,5), rot = 90, saveimg = True): \n",
    "    #  df_train[feature].value_counts().sum()\n",
    "    feat_train = df_train[feature].value_counts()\n",
    "    feat_test = df_test[feature].value_counts()\n",
    "\n",
    "    # Plot 2 graphs next to each other\n",
    "    fig_feature, (a1,a2) = plt.subplots(1,2,sharex=True, sharey = True, figsize = figsize)\n",
    "\n",
    "    sns.barplot(feat_train.index.values, feat_train.values, ax = a1)\n",
    "    sns.barplot(feat_test.index.values, feat_test.values, ax = a2)\n",
    "\n",
    "    a1.set_xticklabels(a1.xaxis.get_majorticklabels(), rotation = rot)\n",
    "    a2.set_xticklabels(a1.xaxis.get_majorticklabels(), rotation = rot)\n",
    "    a1.set_title(feature + ' of training dataset')\n",
    "    a2.set_title(feature + ' of test dataset')\n",
    "    a1.set_ylabel('Counts')\n",
    "    plt.tight_layout()\n",
    "    if saveimg == True:\n",
    "        figname = feature + \".png\"\n",
    "        fig_feature.savefig(figname, dpi = 75)\n",
    "\n"
   ]
  },
  {
   "cell_type": "code",
   "execution_count": 30,
   "metadata": {},
   "outputs": [
    {
     "name": "stderr",
     "output_type": "stream",
     "text": [
      "c:\\Users\\nadin\\AppData\\Local\\Programs\\Python\\Python39\\lib\\site-packages\\seaborn\\_decorators.py:36: FutureWarning: Pass the following variables as keyword args: x, y. From version 0.12, the only valid positional argument will be `data`, and passing other arguments without an explicit keyword will result in an error or misinterpretation.\n",
      "  warnings.warn(\n",
      "c:\\Users\\nadin\\AppData\\Local\\Programs\\Python\\Python39\\lib\\site-packages\\seaborn\\_decorators.py:36: FutureWarning: Pass the following variables as keyword args: x, y. From version 0.12, the only valid positional argument will be `data`, and passing other arguments without an explicit keyword will result in an error or misinterpretation.\n",
      "  warnings.warn(\n",
      "c:\\Users\\nadin\\AppData\\Local\\Programs\\Python\\Python39\\lib\\site-packages\\seaborn\\_decorators.py:36: FutureWarning: Pass the following variables as keyword args: x, y. From version 0.12, the only valid positional argument will be `data`, and passing other arguments without an explicit keyword will result in an error or misinterpretation.\n",
      "  warnings.warn(\n",
      "c:\\Users\\nadin\\AppData\\Local\\Programs\\Python\\Python39\\lib\\site-packages\\seaborn\\_decorators.py:36: FutureWarning: Pass the following variables as keyword args: x, y. From version 0.12, the only valid positional argument will be `data`, and passing other arguments without an explicit keyword will result in an error or misinterpretation.\n",
      "  warnings.warn(\n",
      "c:\\Users\\nadin\\AppData\\Local\\Programs\\Python\\Python39\\lib\\site-packages\\seaborn\\_decorators.py:36: FutureWarning: Pass the following variables as keyword args: x, y. From version 0.12, the only valid positional argument will be `data`, and passing other arguments without an explicit keyword will result in an error or misinterpretation.\n",
      "  warnings.warn(\n",
      "c:\\Users\\nadin\\AppData\\Local\\Programs\\Python\\Python39\\lib\\site-packages\\seaborn\\_decorators.py:36: FutureWarning: Pass the following variables as keyword args: x, y. From version 0.12, the only valid positional argument will be `data`, and passing other arguments without an explicit keyword will result in an error or misinterpretation.\n",
      "  warnings.warn(\n",
      "c:\\Users\\nadin\\AppData\\Local\\Programs\\Python\\Python39\\lib\\site-packages\\seaborn\\_decorators.py:36: FutureWarning: Pass the following variables as keyword args: x, y. From version 0.12, the only valid positional argument will be `data`, and passing other arguments without an explicit keyword will result in an error or misinterpretation.\n",
      "  warnings.warn(\n",
      "c:\\Users\\nadin\\AppData\\Local\\Programs\\Python\\Python39\\lib\\site-packages\\seaborn\\_decorators.py:36: FutureWarning: Pass the following variables as keyword args: x, y. From version 0.12, the only valid positional argument will be `data`, and passing other arguments without an explicit keyword will result in an error or misinterpretation.\n",
      "  warnings.warn(\n"
     ]
    },
    {
     "data": {
      "image/png": "[encoded data removed]",
      "text/plain": [
       "<Figure size 720x360 with 2 Axes>"
      ]
     },
     "metadata": {
      "needs_background": "light"
     },
     "output_type": "display_data"
    },
    {
     "data": {
      "image/png": "[encoded data removed]",
      "text/plain": [
       "<Figure size 720x360 with 2 Axes>"
      ]
     },
     "metadata": {
      "needs_background": "light"
     },
     "output_type": "display_data"
    },
    {
     "data": {
      "image/png": "[encoded data removed]",
      "text/plain": [
       "<Figure size 720x360 with 2 Axes>"
      ]
     },
     "metadata": {
      "needs_background": "light"
     },
     "output_type": "display_data"
    },
    {
     "data": {
      "image/png": "[encoded data removed]",
      "text/plain": [
       "<Figure size 720x360 with 2 Axes>"
      ]
     },
     "metadata": {
      "needs_background": "light"
     },
     "output_type": "display_data"
    }
   ],
   "source": [
    "vizualizeFeatures('gender')\n",
    "# Note proble mi nsign up, train has no users signing  up by google, but test has relatively a lot\n",
    "vizualizeFeatures('signup_method')\n",
    "vizualizeFeatures('first_browser')\n",
    "vizualizeFeatures('signup_flow')\n"
   ]
  },
  {
   "cell_type": "code",
   "execution_count": 24,
   "metadata": {},
   "outputs": [
    {
     "name": "stdout",
     "output_type": "stream",
     "text": [
      "(4,)\n"
     ]
    }
   ],
   "source": [
    "print(genders.shape)"
   ]
  },
  {
   "cell_type": "code",
   "execution_count": 18,
   "metadata": {},
   "outputs": [
    {
     "name": "stdout",
     "output_type": "stream",
     "text": [
      "id                              0\n",
      "date_account_created            0\n",
      "timestamp_first_active          0\n",
      "date_first_booking         124543\n",
      "gender                          0\n",
      "age                         87990\n",
      "signup_method                   0\n",
      "signup_flow                     0\n",
      "language                        0\n",
      "affiliate_channel               0\n",
      "affiliate_provider              0\n",
      "first_affiliate_tracked      6065\n",
      "signup_app                      0\n",
      "first_device_type               0\n",
      "first_browser                   0\n",
      "country_destination             0\n",
      "dtype: int64\n"
     ]
    }
   ],
   "source": [
    "print(train_users_dfm.isnull().sum())"
   ]
  },
  {
   "cell_type": "code",
   "execution_count": 19,
   "metadata": {},
   "outputs": [
    {
     "name": "stdout",
     "output_type": "stream",
     "text": [
      "Value counts for gender: \n",
      " -unknown-    95688\n",
      "FEMALE       63041\n",
      "MALE         54440\n",
      "OTHER          282\n",
      "Name: gender, dtype: int64 \n",
      "\n",
      "\n",
      "Value counts for destination country:\n",
      " NDF      124543\n",
      "US        62376\n",
      "other     10094\n",
      "FR         5023\n",
      "IT         2835\n",
      "GB         2324\n",
      "ES         2249\n",
      "CA         1428\n",
      "DE         1061\n",
      "NL          762\n",
      "AU          539\n",
      "PT          217\n",
      "Name: country_destination, dtype: int64\n"
     ]
    }
   ],
   "source": [
    "print('Value counts for gender: \\n', train_users_dfm['gender'].value_counts(), '\\n\\n')\n",
    "print('Value counts for destination country:\\n', train_users_dfm['country_destination'].value_counts())"
   ]
  },
  {
   "cell_type": "code",
   "execution_count": 20,
   "metadata": {},
   "outputs": [
    {
     "data": {
      "image/png": "[encoded data removed]",
      "text/plain": [
       "<Figure size 432x288 with 1 Axes>"
      ]
     },
     "metadata": {
      "needs_background": "light"
     },
     "output_type": "display_data"
    }
   ],
   "source": [
    "# Extract date accout creation from train, convert  to date\n",
    "dac_train = train_users_dfm.date_account_created.value_counts()\n",
    "dac_train_date = pd.to_datetime(train_users_dfm.date_account_created.value_counts().index)\n",
    "# Assume first user is 1st day of website launch, and get dates since\n",
    "dac_train_day = dac_train_date - dac_train_date.min()\n",
    "\n",
    "# repeat for test users\n",
    "dac_test = test_users_dfm.date_account_created.value_counts()\n",
    "dac_test_date = pd.to_datetime(test_users_dfm.date_account_created.value_counts().index)\n",
    "dac_test_day = dac_test_date - dac_train_date.min()\n",
    "\n",
    "# Sketch a scatter of days age of account and count of new users in that dat\n",
    "plt.scatter(dac_train_day.days, dac_train.values, color = 'y', label = 'train dataset')\n",
    "plt.scatter(dac_test_day.days, dac_test.values, color = 'g', label = 'test dataset')\n",
    "\n",
    "plt.title(\"Accounts created count vs day\")\n",
    "plt.xlabel(\"Days\")\n",
    "plt.ylabel(\"New accounts \")\n",
    "plt.rcParams[\"figure.figsize\"] = (30,15)"
   ]
  },
  {
   "cell_type": "code",
   "execution_count": null,
   "metadata": {},
   "outputs": [],
   "source": []
  },
  {
   "cell_type": "code",
   "execution_count": null,
   "metadata": {},
   "outputs": [],
   "source": []
  },
  {
   "cell_type": "code",
   "execution_count": null,
   "metadata": {},
   "outputs": [],
   "source": []
  }
 ],
 "metadata": {
  "interpreter": {
   "hash": "2761561acc035fe7ad495a167e21a4a7bf34c38ee3db4eae9ee9ebaf79845087"
  },
  "kernelspec": {
   "display_name": "Python 3.9.1 64-bit",
   "language": "python",
   "name": "python3"
  },
  "language_info": {
   "codemirror_mode": {
    "name": "ipython",
    "version": 3
   },
   "file_extension": ".py",
   "mimetype": "text/x-python",
   "name": "python",
   "nbconvert_exporter": "python",
   "pygments_lexer": "ipython3",
   "version": "3.9.1"
  },
  "orig_nbformat": 4
 },
 "nbformat": 4,
 "nbformat_minor": 2
}
