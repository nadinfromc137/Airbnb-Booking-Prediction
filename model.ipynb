{
  "nbformat": 4,
  "nbformat_minor": 0,
  "metadata": {
    "colab": {
      "name": "model.ipynb",
      "provenance": [],
      "collapsed_sections": [],
      "machine_shape": "hm"
    },
    "kernelspec": {
      "name": "python3",
      "display_name": "Python 3"
    },
    "language_info": {
      "name": "python"
    },
    "accelerator": "TPU"
  },
  "cells": [
    {
      "cell_type": "code",
      "source": [
        "# General Config\n",
        "# Mount google drive\n",
        "from google.colab import drive  \n",
        "drive.mount('/content/gdrive')\n",
        "%cd './gdrive/MyDrive/BigData/'"
      ],
      "metadata": {
        "colab": {
          "base_uri": "https://localhost:8080/"
        },
        "id": "ah4Wa8bDk0UI",
        "outputId": "66c4593d-e49e-4f93-982b-cd1078b090ee"
      },
      "execution_count": null,
      "outputs": [
        {
          "output_type": "stream",
          "name": "stdout",
          "text": [
            "Drive already mounted at /content/gdrive; to attempt to forcibly remount, call drive.mount(\"/content/gdrive\", force_remount=True).\n",
            "[Errno 2] No such file or directory: './gdrive/MyDrive/BigData/'\n",
            "/content/gdrive/.shortcut-targets-by-id/16HGMccVbA_xeZio6sQdO6N61Qa0m5LHM/BigData\n"
          ]
        }
      ]
    },
    {
      "cell_type": "code",
      "execution_count": null,
      "metadata": {
        "id": "UeFqp9kYuYkI"
      },
      "outputs": [],
      "source": [
        "# General\n",
        "import matplotlib.pyplot as plt\n",
        "import pandas as pd\n",
        "import numpy as np\n",
        "\n",
        "#from helper import *\n",
        "# SK preprocessing\n",
        "from sklearn.ensemble import VotingClassifier\n",
        "from sklearn.preprocessing import StandardScaler\n",
        "from sklearn.preprocessing import LabelEncoder, MinMaxScaler, StandardScaler\n",
        "from sklearn.preprocessing import PolynomialFeatures\n",
        "from sklearn.preprocessing import Binarizer\n",
        "\n",
        "# SK feature selection\n",
        "from sklearn.feature_selection import SelectKBest\n",
        "from sklearn.feature_selection import f_classif\n",
        "\n",
        "# SK pipeline & models\n",
        "from sklearn.pipeline import Pipeline\n",
        "from sklearn.model_selection import cross_validate\n",
        "from sklearn.neighbors import KNeighborsClassifier\n",
        "from sklearn.svm import SVC, LinearSVC, NuSVC\n",
        "from sklearn.tree import DecisionTreeClassifier\n",
        "from sklearn.ensemble import RandomForestClassifier, AdaBoostClassifier, GradientBoostingClassifier\n",
        "from sklearn.naive_bayes import GaussianNB\n",
        "from sklearn.discriminant_analysis import LinearDiscriminantAnalysis\n",
        "from sklearn.discriminant_analysis import QuadraticDiscriminantAnalysis\n",
        "from sklearn.decomposition import PCA\n",
        "from sklearn.metrics import accuracy_score, log_loss\n",
        "from sklearn.model_selection import train_test_split\n",
        "\n",
        "\n",
        "# Keras\n",
        "# !pip install keras\n",
        "import keras\n",
        "import tensorflow\n",
        "from keras import metrics\n",
        "from keras import regularizers\n",
        "from keras.models import Sequential, load_model\n",
        "from keras.layers import Dense, Dropout, Flatten, Activation\n",
        "from tensorflow.keras.optimizers import Adam, RMSprop\n",
        "from keras.callbacks import TensorBoard, EarlyStopping, ModelCheckpoint\n",
        "from keras.utils.vis_utils import plot_model\n"
      ]
    },
    {
      "cell_type": "code",
      "source": [
        "#%cd '/content/gdrive/MyDrive/BigData/Datasets'\n",
        "filepath = '/content/gdrive/MyDrive/BigData/Datasets/final_train.csv' # './train_users_2.csv'\n",
        "\n",
        "\n",
        "# Read pandas\n",
        "data = pd.read_csv(filepath)\n",
        "\n",
        "print(data.shape) #(213451, 16)\n",
        "\n",
        "\n",
        "# print(data.head(10))\n",
        "\n",
        "# nan count in each column\n",
        "nanCount = data.isnull().sum()\n",
        "# print(nanCount)\n",
        "\n",
        "# data.describe()\n",
        "# print(data.describe())\n",
        "\n",
        "# Assumption: MM-DD-YYYY - Be read / 3la enha -\n",
        "# Encode Dates (cyclic data) (sin, cos new dimensions)\n",
        "def encode(data, col, max_val):\n",
        "    data[col + '_sin'] = np.sin(2 * np.pi * data[col]/max_val)\n",
        "    data[col + '_cos'] = np.cos(2 * np.pi * data[col]/max_val)\n",
        "    data = data.drop(columns = [col], axis = 1)\n",
        "    return data\n",
        "\n",
        "\n",
        "\n",
        "# Convert columns to datetime objects\n",
        "data['date_account_created'] = pd.to_datetime(data['date_account_created'])\n",
        "data['date_first_booking'] = pd.to_datetime(data['date_first_booking'])\n",
        "\n",
        "\n",
        "#Add date_account_created encoded columns (day,month,year)\n",
        "data['date_account_created_day'] = data['date_account_created'].dt.day\n",
        "data['date_account_created_month'] = data['date_account_created'].dt.month\n",
        "#data['date_account_created_year'] = data['date_account_created'].dt.year\n",
        "\n",
        "\n",
        "data['date_first_booking_day'] = data['date_first_booking'].dt.day\n",
        "data['date_first_booking_month'] = data['date_first_booking'].dt.month\n",
        "#data['date_first_booking_year'] = data['date_first_booking'].dt.year\n",
        "\n",
        "\n",
        "# Encode dates\n",
        "data = encode(data, 'date_account_created_day', 365)\n",
        "data = encode(data, 'date_account_created_month', 12)\n",
        "\n",
        "data = encode(data, 'date_first_booking_day', 365)\n",
        "data = encode(data, 'date_first_booking_month', 12) # #(213451, 21)\n",
        "\n",
        "data = encode(data, 'time_day', 365)\n",
        "data = encode(data, 'time_month', 12)\n",
        "\n",
        "data = encode(data, 'time_season', 4)\n",
        "data = encode(data, 'time_weekday', 7)\n",
        "\n",
        "#Drop date_first_booking column,date_account_created columns\n",
        "data = data.drop(columns = ['first_browser','date_first_booking','time_year','date_account_created','Unnamed: 0'], axis = 1) #(213451, 19)\n",
        "\n",
        "\n",
        "# Replace first_affiliate_tracked with most frequent\n",
        "frequentModel =data['first_affiliate_tracked'].value_counts()[data['first_affiliate_tracked'].value_counts() == data['first_affiliate_tracked'].value_counts().max()].idxmax()\n",
        "data['first_affiliate_tracked'] = data['first_affiliate_tracked'].fillna(frequentModel)\n",
        "\n",
        "\n",
        "# Encode\n",
        "categ = ['signup_method', 'language', 'affiliate_channel', 'affiliate_provider','first_affiliate_tracked','signup_app', 'first_device_type', 'country_destination', 'gender']\n",
        "\n",
        "# Encode Categorical Columns\n",
        "le = LabelEncoder()\n",
        "data[categ] = data[categ].apply(le.fit_transform)\n",
        "\n",
        "\n",
        "# Final check for na values\n",
        "nanCount = data.isnull().sum()\n",
        "#print(nanCount)\n",
        "\n",
        "cols_to_norm = ['age_new']\n",
        "#data[cols_to_norm] = MinMaxScaler().fit_transform(data[cols_to_norm])\n",
        "\n",
        "# print(data['age'].head(10))\n",
        "# Correlation: check for feature inter-dependence,\n",
        "\n",
        "# print(data.head(10))\n",
        "# corr = data.corr()\n",
        "print(data.shape)\n",
        "# print(corr['country_destination'])\n",
        "\n",
        "data.head(5)\n",
        "\n",
        "\n",
        "data = data.drop(columns = ['signup_app','time_day_sin', 'time_day_cos','time_month_sin', 'time_month_cos'], axis = 1)\n",
        " #(213451, 19)\n",
        "\n",
        "X = np.asarray(data.loc[:, data.columns != 'country_destination'])\n",
        "Y = np.asarray(data['country_destination'])\n",
        "print(X.shape)\n",
        "X = StandardScaler().fit_transform(X) \n",
        "\n",
        "\n",
        "                            "
      ],
      "metadata": {
        "colab": {
          "base_uri": "https://localhost:8080/"
        },
        "id": "HG35p86QxM3_",
        "outputId": "c65bfd11-122a-423d-83d4-b028e8caed79"
      },
      "execution_count": null,
      "outputs": [
        {
          "output_type": "stream",
          "name": "stdout",
          "text": [
            "(213451, 21)\n",
            "(213451, 28)\n",
            "(213451, 22)\n"
          ]
        }
      ]
    },
    {
      "cell_type": "code",
      "source": [
        "print(data.shape)\n",
        "print(data.columns)"
      ],
      "metadata": {
        "colab": {
          "base_uri": "https://localhost:8080/"
        },
        "id": "cTlfnD1zvCwN",
        "outputId": "c639b891-f6b1-47d5-d159-e1f1c475182f"
      },
      "execution_count": null,
      "outputs": [
        {
          "output_type": "stream",
          "name": "stdout",
          "text": [
            "(213451, 23)\n",
            "Index(['gender', 'age', 'signup_method', 'signup_flow', 'language',\n",
            "       'affiliate_channel', 'affiliate_provider', 'first_affiliate_tracked',\n",
            "       'first_device_type', 'country_destination', 'age_new',\n",
            "       'date_account_created_day_sin', 'date_account_created_day_cos',\n",
            "       'date_account_created_month_sin', 'date_account_created_month_cos',\n",
            "       'date_first_booking_day_sin', 'date_first_booking_day_cos',\n",
            "       'date_first_booking_month_sin', 'date_first_booking_month_cos',\n",
            "       'time_month_sin', 'time_month_cos', 'time_season_sin',\n",
            "       'time_season_cos'],\n",
            "      dtype='object')\n"
          ]
        }
      ]
    },
    {
      "cell_type": "code",
      "source": [
        "# Deep Learning\n",
        "class myCallback(tensorflow.keras.callbacks.Callback): \n",
        "  def on_epoch_end(self, epoch, logs={}): \n",
        "    ''' \n",
        "    Halts the training after reaching 60 percent accuracy \n",
        "    Args: \n",
        "      epoch (integer) - index of epoch (required but unused in the function definition below) \n",
        "      logs (dict) - metric results from the training epoch \n",
        "    ''' \n",
        "    if(logs.get('accuracy')>0.95): \n",
        "      print(\"\\nReached 95% accuracy so cancelling training!\") \n",
        "      self.model.stop_training = True \n",
        "callbacks = myCallback()\n",
        "\n",
        "X = np.asarray(data.loc[:, data.columns != 'country_destination'])\n",
        "Y = np.asarray(data['country_destination'])\n",
        "\n",
        "# Split\n",
        "X_train, X_test, Y_train, Y_test = train_test_split(X,Y,test_size=0.2,random_state=1, shuffle=False)\n",
        "\n",
        "# Split the data\n",
        "X_train, X_valid, Y_train, Y_valid = train_test_split(X_train, Y_train, test_size=0.2, shuffle= False)\n",
        "\n",
        "model = Sequential([Flatten(),  \n",
        "                            Dense(128, activation='relu'),\n",
        "                            Dense(64, activation='relu'), \n",
        "                            Dense(12, activation='softmax')])\n",
        "model.compile(optimizer = Adam(), \n",
        "              loss = 'sparse_categorical_crossentropy',\n",
        "              metrics=['accuracy']) \n",
        "\n",
        "\n",
        "model.fit(X_train, Y_train, epochs=25, callbacks=[callbacks],\n",
        "          validation_data=(X_valid, Y_valid),\n",
        "          batch_size=128)\n",
        "\n",
        "model.summary()\n",
        "\n",
        "score = model.evaluate(X_test, Y_test, verbose=0)\n",
        "score\n",
        "\n"
      ],
      "metadata": {
        "id": "tI9zjqRFEyBc"
      },
      "execution_count": null,
      "outputs": []
    },
    {
      "cell_type": "code",
      "source": [
        "# X, Y\n",
        "#    KNeighborsClassifier(3),\n",
        "    # SVC(kernel=\"rbf\", C=0.025, probability=True),\n",
        "    # NuSVC(probability=True),\n",
        "    # DecisionTreeClassifier(),\n",
        "    # RandomForestClassifier(),\n",
        "classifiers = [\n",
        "    AdaBoostClassifier(),\n",
        "    #GradientBoostingClassifier(),\n",
        "    #GaussianNB(),\n",
        "    LinearDiscriminantAnalysis(),\n",
        "    QuadraticDiscriminantAnalysis()]\n",
        "\n",
        "# Split\n",
        "X_train, X_test, Y_train, Y_test = train_test_split(X,Y,test_size=0.2,random_state=1,shuffle=False)\n",
        "\n",
        "# Logging for Visual Comparison\n",
        "log_cols=[\"Classifier\", \"Accuracy\", \"Log Loss\"]\n",
        "log = pd.DataFrame(columns=log_cols)\n",
        "\n",
        "for clf in classifiers:\n",
        "    clf.fit(X_train, Y_train)\n",
        "    name = clf.__class__.__name__\n",
        "    \n",
        "    print(\"=\"*30)\n",
        "    print(name)\n",
        "    \n",
        "    print('****Results****')\n",
        "    train_predictions = clf.predict(X_test)\n",
        "    acc = accuracy_score(Y_test, train_predictions)\n",
        "    print(\"Accuracy: {:.4%}\".format(acc))\n",
        "    \n",
        "    train_predictions = clf.predict_proba(X_test)\n",
        "    ll = log_loss(Y_test, train_predictions)\n",
        "    print(\"Log Loss: {}\".format(ll))\n",
        "    \n",
        "    log_entry = pd.DataFrame([[name, acc*100, ll]], columns=log_cols)\n",
        "    log = log.append(log_entry)\n",
        "    \n",
        "print(\"=\"*30)\n",
        "\n",
        "# Ensemble learning\n",
        "# ensemble = VotingClassifier(classifiers, voting='hard')\n",
        "\n",
        "# Y_reshaped = Y_train.reshape((len(Y_train), 1))   \n",
        "\n",
        "# #fit model to training data\n",
        "# ensemble.fit(X_train, Y_reshaped)\n",
        "\n",
        "# #test our model on the test data\n",
        "# ensemble.score(X_test, Y_test)\n"
      ],
      "metadata": {
        "colab": {
          "base_uri": "https://localhost:8080/"
        },
        "id": "IsSDozutayoa",
        "outputId": "5dea200a-c98f-469d-9f03-9e9fd3723fb4"
      },
      "execution_count": null,
      "outputs": [
        {
          "output_type": "stream",
          "name": "stdout",
          "text": [
            "==============================\n",
            "AdaBoostClassifier\n",
            "****Results****\n",
            "Accuracy: 63.4419%\n",
            "Log Loss: 2.418111424512208\n",
            "==============================\n",
            "LinearDiscriminantAnalysis\n",
            "****Results****\n",
            "Accuracy: 61.7273%\n",
            "Log Loss: 1.1318515475997946\n"
          ]
        },
        {
          "output_type": "stream",
          "name": "stderr",
          "text": [
            "/usr/local/lib/python3.7/dist-packages/sklearn/discriminant_analysis.py:878: UserWarning: Variables are collinear\n",
            "  warnings.warn(\"Variables are collinear\")\n"
          ]
        },
        {
          "output_type": "stream",
          "name": "stdout",
          "text": [
            "==============================\n",
            "QuadraticDiscriminantAnalysis\n",
            "****Results****\n",
            "Accuracy: 80.4549%\n",
            "Log Loss: 3.90733814254777\n",
            "==============================\n"
          ]
        }
      ]
    },
    {
      "cell_type": "code",
      "source": [
        "import matplotlib.pyplot as plt\n",
        "\n",
        "def plot_feature_importances(clf):\n",
        "    num_feats = X.shape[1]\n",
        "    plt.figure(figsize=(10, 20))\n",
        "    plt.barh(range(num_feats), clf.feature_importances_, color='k', align='center')\n",
        "    plt.yticks(np.arange(num_feats), X.columns.values)\n",
        "    plt.xlabel('Importance of the fests')\n",
        "    plt.ylabel('Feats')\n",
        "    plt.rcParams[\"figure.facecolor\"] = \"white\"\n",
        "    plt.grid(True)\n",
        "\n",
        "predictors =['gender','age', 'signup_method', 'signup_flow', 'language',\n",
        "       'affiliate_channel', 'affiliate_provider', 'first_affiliate_tracked',\n",
        "       'signup_app', 'first_device_type', 'age_new',\n",
        "       'date_account_created_day_sin', 'date_account_created_day_cos',\n",
        "       'date_account_created_month_sin', 'date_account_created_month_cos',\n",
        "       'date_first_booking_day_sin', 'date_first_booking_day_cos',\n",
        "       'date_first_booking_month_sin', 'date_first_booking_month_cos',\n",
        "       'time_day_sin', 'time_day_cos', 'time_month_sin', 'time_month_cos',\n",
        "       'time_season_sin', 'time_season_cos', 'time_weekday_sin',\n",
        "       'time_weekday_cos']\n",
        "X = data[predictors]\n",
        "y = data['country_destination']\n",
        "clf = AdaBoostClassifier()\n",
        "clf.fit(X,Y )\n",
        "print('Number of feats : ', X.shape[1])\n",
        "plot_feature_importances(clf)\n",
        "plt.rcParams[\"figure.facecolor\"] = \"white\""
      ],
      "metadata": {
        "colab": {
          "base_uri": "https://localhost:8080/",
          "height": 1000
        },
        "id": "wkXf_XREWIHm",
        "outputId": "63053ea4-a2ad-4753-9eeb-e3508016d017"
      },
      "execution_count": null,
      "outputs": [
        {
          "output_type": "stream",
          "name": "stdout",
          "text": [
            "Number of feats :  27\n"
          ]
        },
        {
          "output_type": "display_data",
          "data": {
            "text/plain": [
              "<Figure size 720x1440 with 1 Axes>"
            ],
            "image/png": "[encoded data removed]"
          },
          "metadata": {}
        }
      ]
    }
  ]
}