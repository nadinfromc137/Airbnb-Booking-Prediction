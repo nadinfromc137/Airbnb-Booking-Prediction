{
  "cells": [
    {
      "cell_type": "code",
      "execution_count": null,
      "metadata": {
        "id": "gAwdfI4c4_wx"
      },
      "outputs": [],
      "source": [
        "import pandas as pd\n",
        "import matplotlib.pyplot as plt\n",
        "import numpy as np\n",
        "import sklearn as sk\n",
        "import datetime\n",
        "import seaborn as sns\n",
        "from datetime import date\n"
      ]
    },
    {
      "cell_type": "code",
      "source": [
        "# General Config\n",
        "# Mount google drive\n",
        "from google.colab import drive  \n",
        "drive.mount('/content/gdrive')\n",
        "%cd './gdrive/MyDrive/BigData/'"
      ],
      "metadata": {
        "colab": {
          "base_uri": "https://localhost:8080/"
        },
        "id": "6bSdZ7xn5e5Y",
        "outputId": "25fc40b9-fa95-4df4-9933-5c5701f80c2d"
      },
      "execution_count": null,
      "outputs": [
        {
          "output_type": "stream",
          "name": "stdout",
          "text": [
            "Drive already mounted at /content/gdrive; to attempt to forcibly remount, call drive.mount(\"/content/gdrive\", force_remount=True).\n",
            "[Errno 2] No such file or directory: './gdrive/MyDrive/BigData/'\n",
            "/content/gdrive/.shortcut-targets-by-id/16HGMccVbA_xeZio6sQdO6N61Qa0m5LHM/BigData/Datasets\n"
          ]
        }
      ]
    },
    {
      "cell_type": "code",
      "source": [
        "%cd '/content/gdrive/MyDrive/BigData/Datasets'"
      ],
      "metadata": {
        "colab": {
          "base_uri": "https://localhost:8080/"
        },
        "id": "MRNK1HR55p9W",
        "outputId": "7e6f5a40-62e0-46d1-9ba6-3b52cd5fd531"
      },
      "execution_count": null,
      "outputs": [
        {
          "output_type": "stream",
          "name": "stdout",
          "text": [
            "/content/gdrive/.shortcut-targets-by-id/16HGMccVbA_xeZio6sQdO6N61Qa0m5LHM/BigData/Datasets\n"
          ]
        }
      ]
    },
    {
      "cell_type": "markdown",
      "source": [
        "**Visulatization and Exploration**"
      ],
      "metadata": {
        "id": "dhbu8wvDKvWW"
      }
    },
    {
      "cell_type": "code",
      "execution_count": null,
      "metadata": {
        "colab": {
          "base_uri": "https://localhost:8080/"
        },
        "id": "EYEV9PVr4_w6",
        "outputId": "82cf4aae-3d94-42de-f838-1df9ebf4b5d0"
      },
      "outputs": [
        {
          "output_type": "stream",
          "name": "stdout",
          "text": [
            "100+     20\n",
            "45-49    20\n",
            "5-9      20\n",
            "10-14    20\n",
            "15-19    20\n",
            "20-24    20\n",
            "25-29    20\n",
            "30-34    20\n",
            "35-39    20\n",
            "40-44    20\n",
            "50-54    20\n",
            "95-99    20\n",
            "55-59    20\n",
            "60-64    20\n",
            "65-69    20\n",
            "70-74    20\n",
            "75-79    20\n",
            "80-84    20\n",
            "85-89    20\n",
            "90-94    20\n",
            "0-4      20\n",
            "Name: age_bucket, dtype: int64\n"
          ]
        }
      ],
      "source": [
        "age_gender_df = pd.read_csv('age_gender_bkts.csv')\n",
        "age_gender_df\n",
        "nanCount = age_gender_df.isnull().sum()\n",
        "#print(nanCount)\n",
        "print(age_gender_df['age_bucket'].value_counts())\n"
      ]
    },
    {
      "cell_type": "code",
      "execution_count": null,
      "metadata": {
        "colab": {
          "base_uri": "https://localhost:8080/",
          "height": 363
        },
        "id": "2-tBhdgu4_w8",
        "outputId": "a5efa1e7-b64a-44bb-a319-c6f713ad4e00"
      },
      "outputs": [
        {
          "output_type": "execute_result",
          "data": {
            "text/plain": [
              "  country_destination  lat_destination  lng_destination  distance_km  \\\n",
              "0                  AU       -26.853388       133.275160   15297.7440   \n",
              "1                  CA        62.393303       -96.818146    2828.1333   \n",
              "2                  DE        51.165707        10.452764    7879.5680   \n",
              "3                  ES        39.896027        -2.487694    7730.7240   \n",
              "4                  FR        46.232193         2.209667    7682.9450   \n",
              "5                  GB        54.633220        -3.432277    6883.6590   \n",
              "6                  IT        41.873990        12.564167    8636.6310   \n",
              "7                  NL        52.133057         5.295250    7524.3203   \n",
              "8                  PT        39.553444        -7.839319    7355.2534   \n",
              "9                  US        36.966427       -95.844030       0.0000   \n",
              "\n",
              "   destination_km2 destination_language   language_levenshtein_distance  \n",
              "0        7741220.0                   eng                           0.00  \n",
              "1        9984670.0                   eng                           0.00  \n",
              "2         357022.0                   deu                          72.61  \n",
              "3         505370.0                   spa                          92.25  \n",
              "4         643801.0                   fra                          92.06  \n",
              "5         243610.0                   eng                           0.00  \n",
              "6         301340.0                   ita                          89.40  \n",
              "7          41543.0                   nld                          63.22  \n",
              "8          92090.0                   por                          95.45  \n",
              "9        9826675.0                   eng                           0.00  "
            ],
            "text/html": [
              "\n",
              "  <div id=\"df-c4385cd1-740d-41dc-a1ac-d43fe19b085e\">\n",
              "    <div class=\"colab-df-container\">\n",
              "      <div>\n",
              "<style scoped>\n",
              "    .dataframe tbody tr th:only-of-type {\n",
              "        vertical-align: middle;\n",
              "    }\n",
              "\n",
              "    .dataframe tbody tr th {\n",
              "        vertical-align: top;\n",
              "    }\n",
              "\n",
              "    .dataframe thead th {\n",
              "        text-align: right;\n",
              "    }\n",
              "</style>\n",
              "<table border=\"1\" class=\"dataframe\">\n",
              "  <thead>\n",
              "    <tr style=\"text-align: right;\">\n",
              "      <th></th>\n",
              "      <th>country_destination</th>\n",
              "      <th>lat_destination</th>\n",
              "      <th>lng_destination</th>\n",
              "      <th>distance_km</th>\n",
              "      <th>destination_km2</th>\n",
              "      <th>destination_language</th>\n",
              "      <th>language_levenshtein_distance</th>\n",
              "    </tr>\n",
              "  </thead>\n",
              "  <tbody>\n",
              "    <tr>\n",
              "      <th>0</th>\n",
              "      <td>AU</td>\n",
              "      <td>-26.853388</td>\n",
              "      <td>133.275160</td>\n",
              "      <td>15297.7440</td>\n",
              "      <td>7741220.0</td>\n",
              "      <td>eng</td>\n",
              "      <td>0.00</td>\n",
              "    </tr>\n",
              "    <tr>\n",
              "      <th>1</th>\n",
              "      <td>CA</td>\n",
              "      <td>62.393303</td>\n",
              "      <td>-96.818146</td>\n",
              "      <td>2828.1333</td>\n",
              "      <td>9984670.0</td>\n",
              "      <td>eng</td>\n",
              "      <td>0.00</td>\n",
              "    </tr>\n",
              "    <tr>\n",
              "      <th>2</th>\n",
              "      <td>DE</td>\n",
              "      <td>51.165707</td>\n",
              "      <td>10.452764</td>\n",
              "      <td>7879.5680</td>\n",
              "      <td>357022.0</td>\n",
              "      <td>deu</td>\n",
              "      <td>72.61</td>\n",
              "    </tr>\n",
              "    <tr>\n",
              "      <th>3</th>\n",
              "      <td>ES</td>\n",
              "      <td>39.896027</td>\n",
              "      <td>-2.487694</td>\n",
              "      <td>7730.7240</td>\n",
              "      <td>505370.0</td>\n",
              "      <td>spa</td>\n",
              "      <td>92.25</td>\n",
              "    </tr>\n",
              "    <tr>\n",
              "      <th>4</th>\n",
              "      <td>FR</td>\n",
              "      <td>46.232193</td>\n",
              "      <td>2.209667</td>\n",
              "      <td>7682.9450</td>\n",
              "      <td>643801.0</td>\n",
              "      <td>fra</td>\n",
              "      <td>92.06</td>\n",
              "    </tr>\n",
              "    <tr>\n",
              "      <th>5</th>\n",
              "      <td>GB</td>\n",
              "      <td>54.633220</td>\n",
              "      <td>-3.432277</td>\n",
              "      <td>6883.6590</td>\n",
              "      <td>243610.0</td>\n",
              "      <td>eng</td>\n",
              "      <td>0.00</td>\n",
              "    </tr>\n",
              "    <tr>\n",
              "      <th>6</th>\n",
              "      <td>IT</td>\n",
              "      <td>41.873990</td>\n",
              "      <td>12.564167</td>\n",
              "      <td>8636.6310</td>\n",
              "      <td>301340.0</td>\n",
              "      <td>ita</td>\n",
              "      <td>89.40</td>\n",
              "    </tr>\n",
              "    <tr>\n",
              "      <th>7</th>\n",
              "      <td>NL</td>\n",
              "      <td>52.133057</td>\n",
              "      <td>5.295250</td>\n",
              "      <td>7524.3203</td>\n",
              "      <td>41543.0</td>\n",
              "      <td>nld</td>\n",
              "      <td>63.22</td>\n",
              "    </tr>\n",
              "    <tr>\n",
              "      <th>8</th>\n",
              "      <td>PT</td>\n",
              "      <td>39.553444</td>\n",
              "      <td>-7.839319</td>\n",
              "      <td>7355.2534</td>\n",
              "      <td>92090.0</td>\n",
              "      <td>por</td>\n",
              "      <td>95.45</td>\n",
              "    </tr>\n",
              "    <tr>\n",
              "      <th>9</th>\n",
              "      <td>US</td>\n",
              "      <td>36.966427</td>\n",
              "      <td>-95.844030</td>\n",
              "      <td>0.0000</td>\n",
              "      <td>9826675.0</td>\n",
              "      <td>eng</td>\n",
              "      <td>0.00</td>\n",
              "    </tr>\n",
              "  </tbody>\n",
              "</table>\n",
              "</div>\n",
              "      <button class=\"colab-df-convert\" onclick=\"convertToInteractive('df-c4385cd1-740d-41dc-a1ac-d43fe19b085e')\"\n",
              "              title=\"Convert this dataframe to an interactive table.\"\n",
              "              style=\"display:none;\">\n",
              "        \n",
              "  <svg xmlns=\"http://www.w3.org/2000/svg\" height=\"24px\"viewBox=\"0 0 24 24\"\n",
              "       width=\"24px\">\n",
              "    <path d=\"M0 0h24v24H0V0z\" fill=\"none\"/>\n",
              "    <path d=\"M18.56 5.44l.94 2.06.94-2.06 2.06-.94-2.06-.94-.94-2.06-.94 2.06-2.06.94zm-11 1L8.5 8.5l.94-2.06 2.06-.94-2.06-.94L8.5 2.5l-.94 2.06-2.06.94zm10 10l.94 2.06.94-2.06 2.06-.94-2.06-.94-.94-2.06-.94 2.06-2.06.94z\"/><path d=\"M17.41 7.96l-1.37-1.37c-.4-.4-.92-.59-1.43-.59-.52 0-1.04.2-1.43.59L10.3 9.45l-7.72 7.72c-.78.78-.78 2.05 0 2.83L4 21.41c.39.39.9.59 1.41.59.51 0 1.02-.2 1.41-.59l7.78-7.78 2.81-2.81c.8-.78.8-2.07 0-2.86zM5.41 20L4 18.59l7.72-7.72 1.47 1.35L5.41 20z\"/>\n",
              "  </svg>\n",
              "      </button>\n",
              "      \n",
              "  <style>\n",
              "    .colab-df-container {\n",
              "      display:flex;\n",
              "      flex-wrap:wrap;\n",
              "      gap: 12px;\n",
              "    }\n",
              "\n",
              "    .colab-df-convert {\n",
              "      background-color: #E8F0FE;\n",
              "      border: none;\n",
              "      border-radius: 50%;\n",
              "      cursor: pointer;\n",
              "      display: none;\n",
              "      fill: #1967D2;\n",
              "      height: 32px;\n",
              "      padding: 0 0 0 0;\n",
              "      width: 32px;\n",
              "    }\n",
              "\n",
              "    .colab-df-convert:hover {\n",
              "      background-color: #E2EBFA;\n",
              "      box-shadow: 0px 1px 2px rgba(60, 64, 67, 0.3), 0px 1px 3px 1px rgba(60, 64, 67, 0.15);\n",
              "      fill: #174EA6;\n",
              "    }\n",
              "\n",
              "    [theme=dark] .colab-df-convert {\n",
              "      background-color: #3B4455;\n",
              "      fill: #D2E3FC;\n",
              "    }\n",
              "\n",
              "    [theme=dark] .colab-df-convert:hover {\n",
              "      background-color: #434B5C;\n",
              "      box-shadow: 0px 1px 3px 1px rgba(0, 0, 0, 0.15);\n",
              "      filter: drop-shadow(0px 1px 2px rgba(0, 0, 0, 0.3));\n",
              "      fill: #FFFFFF;\n",
              "    }\n",
              "  </style>\n",
              "\n",
              "      <script>\n",
              "        const buttonEl =\n",
              "          document.querySelector('#df-c4385cd1-740d-41dc-a1ac-d43fe19b085e button.colab-df-convert');\n",
              "        buttonEl.style.display =\n",
              "          google.colab.kernel.accessAllowed ? 'block' : 'none';\n",
              "\n",
              "        async function convertToInteractive(key) {\n",
              "          const element = document.querySelector('#df-c4385cd1-740d-41dc-a1ac-d43fe19b085e');\n",
              "          const dataTable =\n",
              "            await google.colab.kernel.invokeFunction('convertToInteractive',\n",
              "                                                     [key], {});\n",
              "          if (!dataTable) return;\n",
              "\n",
              "          const docLinkHtml = 'Like what you see? Visit the ' +\n",
              "            '<a target=\"_blank\" href=https://colab.research.google.com/notebooks/data_table.ipynb>data table notebook</a>'\n",
              "            + ' to learn more about interactive tables.';\n",
              "          element.innerHTML = '';\n",
              "          dataTable['output_type'] = 'display_data';\n",
              "          await google.colab.output.renderOutput(dataTable, element);\n",
              "          const docLink = document.createElement('div');\n",
              "          docLink.innerHTML = docLinkHtml;\n",
              "          element.appendChild(docLink);\n",
              "        }\n",
              "      </script>\n",
              "    </div>\n",
              "  </div>\n",
              "  "
            ]
          },
          "metadata": {},
          "execution_count": 9
        }
      ],
      "source": [
        "countries_df =  pd.read_csv('countries.csv')\n",
        "countries_df"
      ]
    },
    {
      "cell_type": "code",
      "execution_count": null,
      "metadata": {
        "colab": {
          "base_uri": "https://localhost:8080/",
          "height": 424
        },
        "id": "NNk1CfC54_w9",
        "outputId": "355f57f1-be16-4da9-c563-3d33bc519872"
      },
      "outputs": [
        {
          "output_type": "execute_result",
          "data": {
            "text/plain": [
              "             user_id            action action_type  \\\n",
              "0         d1mm9tcy42            lookup         NaN   \n",
              "1         d1mm9tcy42    search_results       click   \n",
              "2         d1mm9tcy42            lookup         NaN   \n",
              "3         d1mm9tcy42    search_results       click   \n",
              "4         d1mm9tcy42            lookup         NaN   \n",
              "...              ...               ...         ...   \n",
              "10567732  9uqfg8txu3         dashboard        view   \n",
              "10567733  9uqfg8txu3              edit        view   \n",
              "10567734  9uqfg8txu3     webcam_upload   -unknown-   \n",
              "10567735  9uqfg8txu3            active   -unknown-   \n",
              "10567736  9uqfg8txu3  show_personalize        data   \n",
              "\n",
              "                        action_detail      device_type  secs_elapsed  \n",
              "0                                 NaN  Windows Desktop         319.0  \n",
              "1                 view_search_results  Windows Desktop       67753.0  \n",
              "2                                 NaN  Windows Desktop         301.0  \n",
              "3                 view_search_results  Windows Desktop       22141.0  \n",
              "4                                 NaN  Windows Desktop         435.0  \n",
              "...                               ...              ...           ...  \n",
              "10567732                    dashboard  Windows Desktop         556.0  \n",
              "10567733                 edit_profile  Windows Desktop        6624.0  \n",
              "10567734                    -unknown-  Windows Desktop      200125.0  \n",
              "10567735                    -unknown-        -unknown-       17624.0  \n",
              "10567736  user_profile_content_update  Windows Desktop        1221.0  \n",
              "\n",
              "[10567737 rows x 6 columns]"
            ],
            "text/html": [
              "\n",
              "  <div id=\"df-6fa84eef-7c1f-4f1c-bd72-0f9a1cedaf5f\">\n",
              "    <div class=\"colab-df-container\">\n",
              "      <div>\n",
              "<style scoped>\n",
              "    .dataframe tbody tr th:only-of-type {\n",
              "        vertical-align: middle;\n",
              "    }\n",
              "\n",
              "    .dataframe tbody tr th {\n",
              "        vertical-align: top;\n",
              "    }\n",
              "\n",
              "    .dataframe thead th {\n",
              "        text-align: right;\n",
              "    }\n",
              "</style>\n",
              "<table border=\"1\" class=\"dataframe\">\n",
              "  <thead>\n",
              "    <tr style=\"text-align: right;\">\n",
              "      <th></th>\n",
              "      <th>user_id</th>\n",
              "      <th>action</th>\n",
              "      <th>action_type</th>\n",
              "      <th>action_detail</th>\n",
              "      <th>device_type</th>\n",
              "      <th>secs_elapsed</th>\n",
              "    </tr>\n",
              "  </thead>\n",
              "  <tbody>\n",
              "    <tr>\n",
              "      <th>0</th>\n",
              "      <td>d1mm9tcy42</td>\n",
              "      <td>lookup</td>\n",
              "      <td>NaN</td>\n",
              "      <td>NaN</td>\n",
              "      <td>Windows Desktop</td>\n",
              "      <td>319.0</td>\n",
              "    </tr>\n",
              "    <tr>\n",
              "      <th>1</th>\n",
              "      <td>d1mm9tcy42</td>\n",
              "      <td>search_results</td>\n",
              "      <td>click</td>\n",
              "      <td>view_search_results</td>\n",
              "      <td>Windows Desktop</td>\n",
              "      <td>67753.0</td>\n",
              "    </tr>\n",
              "    <tr>\n",
              "      <th>2</th>\n",
              "      <td>d1mm9tcy42</td>\n",
              "      <td>lookup</td>\n",
              "      <td>NaN</td>\n",
              "      <td>NaN</td>\n",
              "      <td>Windows Desktop</td>\n",
              "      <td>301.0</td>\n",
              "    </tr>\n",
              "    <tr>\n",
              "      <th>3</th>\n",
              "      <td>d1mm9tcy42</td>\n",
              "      <td>search_results</td>\n",
              "      <td>click</td>\n",
              "      <td>view_search_results</td>\n",
              "      <td>Windows Desktop</td>\n",
              "      <td>22141.0</td>\n",
              "    </tr>\n",
              "    <tr>\n",
              "      <th>4</th>\n",
              "      <td>d1mm9tcy42</td>\n",
              "      <td>lookup</td>\n",
              "      <td>NaN</td>\n",
              "      <td>NaN</td>\n",
              "      <td>Windows Desktop</td>\n",
              "      <td>435.0</td>\n",
              "    </tr>\n",
              "    <tr>\n",
              "      <th>...</th>\n",
              "      <td>...</td>\n",
              "      <td>...</td>\n",
              "      <td>...</td>\n",
              "      <td>...</td>\n",
              "      <td>...</td>\n",
              "      <td>...</td>\n",
              "    </tr>\n",
              "    <tr>\n",
              "      <th>10567732</th>\n",
              "      <td>9uqfg8txu3</td>\n",
              "      <td>dashboard</td>\n",
              "      <td>view</td>\n",
              "      <td>dashboard</td>\n",
              "      <td>Windows Desktop</td>\n",
              "      <td>556.0</td>\n",
              "    </tr>\n",
              "    <tr>\n",
              "      <th>10567733</th>\n",
              "      <td>9uqfg8txu3</td>\n",
              "      <td>edit</td>\n",
              "      <td>view</td>\n",
              "      <td>edit_profile</td>\n",
              "      <td>Windows Desktop</td>\n",
              "      <td>6624.0</td>\n",
              "    </tr>\n",
              "    <tr>\n",
              "      <th>10567734</th>\n",
              "      <td>9uqfg8txu3</td>\n",
              "      <td>webcam_upload</td>\n",
              "      <td>-unknown-</td>\n",
              "      <td>-unknown-</td>\n",
              "      <td>Windows Desktop</td>\n",
              "      <td>200125.0</td>\n",
              "    </tr>\n",
              "    <tr>\n",
              "      <th>10567735</th>\n",
              "      <td>9uqfg8txu3</td>\n",
              "      <td>active</td>\n",
              "      <td>-unknown-</td>\n",
              "      <td>-unknown-</td>\n",
              "      <td>-unknown-</td>\n",
              "      <td>17624.0</td>\n",
              "    </tr>\n",
              "    <tr>\n",
              "      <th>10567736</th>\n",
              "      <td>9uqfg8txu3</td>\n",
              "      <td>show_personalize</td>\n",
              "      <td>data</td>\n",
              "      <td>user_profile_content_update</td>\n",
              "      <td>Windows Desktop</td>\n",
              "      <td>1221.0</td>\n",
              "    </tr>\n",
              "  </tbody>\n",
              "</table>\n",
              "<p>10567737 rows × 6 columns</p>\n",
              "</div>\n",
              "      <button class=\"colab-df-convert\" onclick=\"convertToInteractive('df-6fa84eef-7c1f-4f1c-bd72-0f9a1cedaf5f')\"\n",
              "              title=\"Convert this dataframe to an interactive table.\"\n",
              "              style=\"display:none;\">\n",
              "        \n",
              "  <svg xmlns=\"http://www.w3.org/2000/svg\" height=\"24px\"viewBox=\"0 0 24 24\"\n",
              "       width=\"24px\">\n",
              "    <path d=\"M0 0h24v24H0V0z\" fill=\"none\"/>\n",
              "    <path d=\"M18.56 5.44l.94 2.06.94-2.06 2.06-.94-2.06-.94-.94-2.06-.94 2.06-2.06.94zm-11 1L8.5 8.5l.94-2.06 2.06-.94-2.06-.94L8.5 2.5l-.94 2.06-2.06.94zm10 10l.94 2.06.94-2.06 2.06-.94-2.06-.94-.94-2.06-.94 2.06-2.06.94z\"/><path d=\"M17.41 7.96l-1.37-1.37c-.4-.4-.92-.59-1.43-.59-.52 0-1.04.2-1.43.59L10.3 9.45l-7.72 7.72c-.78.78-.78 2.05 0 2.83L4 21.41c.39.39.9.59 1.41.59.51 0 1.02-.2 1.41-.59l7.78-7.78 2.81-2.81c.8-.78.8-2.07 0-2.86zM5.41 20L4 18.59l7.72-7.72 1.47 1.35L5.41 20z\"/>\n",
              "  </svg>\n",
              "      </button>\n",
              "      \n",
              "  <style>\n",
              "    .colab-df-container {\n",
              "      display:flex;\n",
              "      flex-wrap:wrap;\n",
              "      gap: 12px;\n",
              "    }\n",
              "\n",
              "    .colab-df-convert {\n",
              "      background-color: #E8F0FE;\n",
              "      border: none;\n",
              "      border-radius: 50%;\n",
              "      cursor: pointer;\n",
              "      display: none;\n",
              "      fill: #1967D2;\n",
              "      height: 32px;\n",
              "      padding: 0 0 0 0;\n",
              "      width: 32px;\n",
              "    }\n",
              "\n",
              "    .colab-df-convert:hover {\n",
              "      background-color: #E2EBFA;\n",
              "      box-shadow: 0px 1px 2px rgba(60, 64, 67, 0.3), 0px 1px 3px 1px rgba(60, 64, 67, 0.15);\n",
              "      fill: #174EA6;\n",
              "    }\n",
              "\n",
              "    [theme=dark] .colab-df-convert {\n",
              "      background-color: #3B4455;\n",
              "      fill: #D2E3FC;\n",
              "    }\n",
              "\n",
              "    [theme=dark] .colab-df-convert:hover {\n",
              "      background-color: #434B5C;\n",
              "      box-shadow: 0px 1px 3px 1px rgba(0, 0, 0, 0.15);\n",
              "      filter: drop-shadow(0px 1px 2px rgba(0, 0, 0, 0.3));\n",
              "      fill: #FFFFFF;\n",
              "    }\n",
              "  </style>\n",
              "\n",
              "      <script>\n",
              "        const buttonEl =\n",
              "          document.querySelector('#df-6fa84eef-7c1f-4f1c-bd72-0f9a1cedaf5f button.colab-df-convert');\n",
              "        buttonEl.style.display =\n",
              "          google.colab.kernel.accessAllowed ? 'block' : 'none';\n",
              "\n",
              "        async function convertToInteractive(key) {\n",
              "          const element = document.querySelector('#df-6fa84eef-7c1f-4f1c-bd72-0f9a1cedaf5f');\n",
              "          const dataTable =\n",
              "            await google.colab.kernel.invokeFunction('convertToInteractive',\n",
              "                                                     [key], {});\n",
              "          if (!dataTable) return;\n",
              "\n",
              "          const docLinkHtml = 'Like what you see? Visit the ' +\n",
              "            '<a target=\"_blank\" href=https://colab.research.google.com/notebooks/data_table.ipynb>data table notebook</a>'\n",
              "            + ' to learn more about interactive tables.';\n",
              "          element.innerHTML = '';\n",
              "          dataTable['output_type'] = 'display_data';\n",
              "          await google.colab.output.renderOutput(dataTable, element);\n",
              "          const docLink = document.createElement('div');\n",
              "          docLink.innerHTML = docLinkHtml;\n",
              "          element.appendChild(docLink);\n",
              "        }\n",
              "      </script>\n",
              "    </div>\n",
              "  </div>\n",
              "  "
            ]
          },
          "metadata": {},
          "execution_count": 10
        }
      ],
      "source": [
        "sessions_dfm = pd.read_csv('sessions.csv')\n",
        "sessions_dfm\n",
        "# 10567737 rows × 6 columns"
      ]
    },
    {
      "cell_type": "code",
      "execution_count": null,
      "metadata": {
        "colab": {
          "base_uri": "https://localhost:8080/"
        },
        "id": "7yODUQJF4_w-",
        "outputId": "635f6675-649e-4852-dc84-9dd345a49259"
      },
      "outputs": [
        {
          "output_type": "stream",
          "name": "stdout",
          "text": [
            "show              2768278\n",
            "index              843699\n",
            "search_results     725226\n",
            "personalize        706824\n",
            "search             536057\n",
            "                   ...   \n",
            "deauthorize             1\n",
            "events                  1\n",
            "reactivate              1\n",
            "desks                   1\n",
            "nyan                    1\n",
            "Name: action, Length: 359, dtype: int64\n"
          ]
        }
      ],
      "source": [
        "print(sessions_dfm['action'].value_counts())"
      ]
    },
    {
      "cell_type": "code",
      "execution_count": null,
      "metadata": {
        "id": "x_xEUQJq4_w-",
        "outputId": "3a0dab47-784e-4930-a142-2665d06996bf"
      },
      "outputs": [
        {
          "name": "stdout",
          "output_type": "stream",
          "text": [
            "view                3560902\n",
            "data                2103770\n",
            "click               1996183\n",
            "-unknown-           1031170\n",
            "submit               623357\n",
            "message_post          87103\n",
            "partner_callback      19132\n",
            "booking_request       18773\n",
            "modify                 1139\n",
            "booking_response          4\n",
            "Name: action_type, dtype: int64\n"
          ]
        }
      ],
      "source": [
        "print(sessions_dfm['action_type'].value_counts())"
      ]
    },
    {
      "cell_type": "code",
      "execution_count": null,
      "metadata": {
        "id": "yVctweZp4_w_",
        "outputId": "6097b825-49da-49ee-efe5-51c0620344c7"
      },
      "outputs": [
        {
          "name": "stdout",
          "output_type": "stream",
          "text": [
            "view_search_results         1776885\n",
            "p3                          1376550\n",
            "-unknown-                   1031141\n",
            "wishlist_content_update      706824\n",
            "user_profile                 656839\n",
            "                             ...   \n",
            "special_offer_field               3\n",
            "tos_2014                          2\n",
            "host_refund_guest                 2\n",
            "host_respond_page                 2\n",
            "host_standard_suspension          1\n",
            "Name: action_detail, Length: 155, dtype: int64\n"
          ]
        }
      ],
      "source": [
        "print(sessions_dfm['action_detail'].value_counts())"
      ]
    },
    {
      "cell_type": "code",
      "execution_count": null,
      "metadata": {
        "id": "TcVRSFPg4_xB",
        "outputId": "73baa934-eeec-44da-b951-18c9bde8737d"
      },
      "outputs": [
        {
          "name": "stdout",
          "output_type": "stream",
          "text": [
            "Mac Desktop                         3594286\n",
            "Windows Desktop                     2658539\n",
            "iPhone                              2105031\n",
            "Android Phone                        839637\n",
            "iPad Tablet                          683414\n",
            "Android App Unknown Phone/Tablet     273652\n",
            "-unknown-                            211279\n",
            "Tablet                               139886\n",
            "Linux Desktop                         28373\n",
            "Chromebook                            22348\n",
            "iPodtouch                              8198\n",
            "Windows Phone                          2047\n",
            "Blackberry                              979\n",
            "Opera Phone                              68\n",
            "Name: device_type, dtype: int64\n"
          ]
        }
      ],
      "source": [
        "print(sessions_dfm['device_type'].value_counts())"
      ]
    },
    {
      "cell_type": "code",
      "execution_count": null,
      "metadata": {
        "id": "9tIj8bnZ4_xB",
        "outputId": "ec01ae3d-3106-4a2b-d1e3-895809b12e7c"
      },
      "outputs": [
        {
          "name": "stdout",
          "output_type": "stream",
          "text": [
            "count    1.043171e+07\n",
            "mean     1.940581e+04\n",
            "std      8.888424e+04\n",
            "min      0.000000e+00\n",
            "25%      2.290000e+02\n",
            "50%      1.147000e+03\n",
            "75%      8.444000e+03\n",
            "max      1.799977e+06\n",
            "Name: secs_elapsed, dtype: float64\n"
          ]
        }
      ],
      "source": [
        "print(sessions_dfm['secs_elapsed'].describe())\n",
        "# Take log of seconds, too big of a range "
      ]
    },
    {
      "cell_type": "markdown",
      "source": [
        "**Exploration Train Data**"
      ],
      "metadata": {
        "id": "5dgXENjCK3R7"
      }
    },
    {
      "cell_type": "code",
      "execution_count": null,
      "metadata": {
        "id": "Z3QzRCSD4_xC"
      },
      "outputs": [],
      "source": [
        "train_users_dfm = pd.read_csv('train_users.csv/train_users.csv', index_col=None)\n",
        "test_users_dfm = pd.read_csv('test_users.csv/test_users.csv', index_col=None)"
      ]
    },
    {
      "cell_type": "code",
      "execution_count": null,
      "metadata": {
        "colab": {
          "base_uri": "https://localhost:8080/",
          "height": 731
        },
        "id": "00881wU84_xD",
        "outputId": "d587c095-5bf4-4746-d621-62d5d530f555"
      },
      "outputs": [
        {
          "output_type": "stream",
          "name": "stdout",
          "text": [
            "The columns name of training dataset:\n",
            " Index(['id', 'date_account_created', 'timestamp_first_active',\n",
            "       'date_first_booking', 'gender', 'age', 'signup_method', 'signup_flow',\n",
            "       'language', 'affiliate_channel', 'affiliate_provider',\n",
            "       'first_affiliate_tracked', 'signup_app', 'first_device_type',\n",
            "       'first_browser', 'country_destination'],\n",
            "      dtype='object')\n",
            "The number of users is:  213451  with  16  features.\n"
          ]
        },
        {
          "output_type": "execute_result",
          "data": {
            "text/plain": [
              "                id date_account_created  timestamp_first_active  \\\n",
              "0       gxn3p5htnn           2010-06-28          20090319043255   \n",
              "1       820tgsjxq7           2011-05-25          20090523174809   \n",
              "2       4ft3gnwmtx           2010-09-28          20090609231247   \n",
              "3       bjjt8pjhuk           2011-12-05          20091031060129   \n",
              "4       87mebub9p4           2010-09-14          20091208061105   \n",
              "...            ...                  ...                     ...   \n",
              "213446  zxodksqpep           2014-06-30          20140630235636   \n",
              "213447  mhewnxesx9           2014-06-30          20140630235719   \n",
              "213448  6o3arsjbb4           2014-06-30          20140630235754   \n",
              "213449  jh95kwisub           2014-06-30          20140630235822   \n",
              "213450  nw9fwlyb5f           2014-06-30          20140630235824   \n",
              "\n",
              "       date_first_booking     gender   age signup_method  signup_flow  \\\n",
              "0                     NaN  -unknown-   NaN      facebook            0   \n",
              "1                     NaN       MALE  38.0      facebook            0   \n",
              "2              2010-08-02     FEMALE  56.0         basic            3   \n",
              "3              2012-09-08     FEMALE  42.0      facebook            0   \n",
              "4              2010-02-18  -unknown-  41.0         basic            0   \n",
              "...                   ...        ...   ...           ...          ...   \n",
              "213446                NaN       MALE  32.0         basic            0   \n",
              "213447                NaN  -unknown-   NaN         basic            0   \n",
              "213448                NaN  -unknown-  32.0         basic            0   \n",
              "213449                NaN  -unknown-   NaN         basic           25   \n",
              "213450                NaN  -unknown-   NaN         basic           25   \n",
              "\n",
              "       language affiliate_channel affiliate_provider first_affiliate_tracked  \\\n",
              "0            en            direct             direct               untracked   \n",
              "1            en               seo             google               untracked   \n",
              "2            en            direct             direct               untracked   \n",
              "3            en            direct             direct               untracked   \n",
              "4            en            direct             direct               untracked   \n",
              "...         ...               ...                ...                     ...   \n",
              "213446       en         sem-brand             google                     omg   \n",
              "213447       en            direct             direct                  linked   \n",
              "213448       en            direct             direct               untracked   \n",
              "213449       en             other              other           tracked-other   \n",
              "213450       en            direct             direct               untracked   \n",
              "\n",
              "       signup_app first_device_type  first_browser country_destination  \n",
              "0             Web       Mac Desktop         Chrome                 NDF  \n",
              "1             Web       Mac Desktop         Chrome                 NDF  \n",
              "2             Web   Windows Desktop             IE                  US  \n",
              "3             Web       Mac Desktop        Firefox               other  \n",
              "4             Web       Mac Desktop         Chrome                  US  \n",
              "...           ...               ...            ...                 ...  \n",
              "213446        Web       Mac Desktop         Safari                 NDF  \n",
              "213447        Web   Windows Desktop         Chrome                 NDF  \n",
              "213448        Web       Mac Desktop        Firefox                 NDF  \n",
              "213449        iOS            iPhone  Mobile Safari                 NDF  \n",
              "213450        iOS            iPhone      -unknown-                 NDF  \n",
              "\n",
              "[213451 rows x 16 columns]"
            ],
            "text/html": [
              "\n",
              "  <div id=\"df-ddb8f8e4-cd38-4eba-ad70-2c178fae2b44\">\n",
              "    <div class=\"colab-df-container\">\n",
              "      <div>\n",
              "<style scoped>\n",
              "    .dataframe tbody tr th:only-of-type {\n",
              "        vertical-align: middle;\n",
              "    }\n",
              "\n",
              "    .dataframe tbody tr th {\n",
              "        vertical-align: top;\n",
              "    }\n",
              "\n",
              "    .dataframe thead th {\n",
              "        text-align: right;\n",
              "    }\n",
              "</style>\n",
              "<table border=\"1\" class=\"dataframe\">\n",
              "  <thead>\n",
              "    <tr style=\"text-align: right;\">\n",
              "      <th></th>\n",
              "      <th>id</th>\n",
              "      <th>date_account_created</th>\n",
              "      <th>timestamp_first_active</th>\n",
              "      <th>date_first_booking</th>\n",
              "      <th>gender</th>\n",
              "      <th>age</th>\n",
              "      <th>signup_method</th>\n",
              "      <th>signup_flow</th>\n",
              "      <th>language</th>\n",
              "      <th>affiliate_channel</th>\n",
              "      <th>affiliate_provider</th>\n",
              "      <th>first_affiliate_tracked</th>\n",
              "      <th>signup_app</th>\n",
              "      <th>first_device_type</th>\n",
              "      <th>first_browser</th>\n",
              "      <th>country_destination</th>\n",
              "    </tr>\n",
              "  </thead>\n",
              "  <tbody>\n",
              "    <tr>\n",
              "      <th>0</th>\n",
              "      <td>gxn3p5htnn</td>\n",
              "      <td>2010-06-28</td>\n",
              "      <td>20090319043255</td>\n",
              "      <td>NaN</td>\n",
              "      <td>-unknown-</td>\n",
              "      <td>NaN</td>\n",
              "      <td>facebook</td>\n",
              "      <td>0</td>\n",
              "      <td>en</td>\n",
              "      <td>direct</td>\n",
              "      <td>direct</td>\n",
              "      <td>untracked</td>\n",
              "      <td>Web</td>\n",
              "      <td>Mac Desktop</td>\n",
              "      <td>Chrome</td>\n",
              "      <td>NDF</td>\n",
              "    </tr>\n",
              "    <tr>\n",
              "      <th>1</th>\n",
              "      <td>820tgsjxq7</td>\n",
              "      <td>2011-05-25</td>\n",
              "      <td>20090523174809</td>\n",
              "      <td>NaN</td>\n",
              "      <td>MALE</td>\n",
              "      <td>38.0</td>\n",
              "      <td>facebook</td>\n",
              "      <td>0</td>\n",
              "      <td>en</td>\n",
              "      <td>seo</td>\n",
              "      <td>google</td>\n",
              "      <td>untracked</td>\n",
              "      <td>Web</td>\n",
              "      <td>Mac Desktop</td>\n",
              "      <td>Chrome</td>\n",
              "      <td>NDF</td>\n",
              "    </tr>\n",
              "    <tr>\n",
              "      <th>2</th>\n",
              "      <td>4ft3gnwmtx</td>\n",
              "      <td>2010-09-28</td>\n",
              "      <td>20090609231247</td>\n",
              "      <td>2010-08-02</td>\n",
              "      <td>FEMALE</td>\n",
              "      <td>56.0</td>\n",
              "      <td>basic</td>\n",
              "      <td>3</td>\n",
              "      <td>en</td>\n",
              "      <td>direct</td>\n",
              "      <td>direct</td>\n",
              "      <td>untracked</td>\n",
              "      <td>Web</td>\n",
              "      <td>Windows Desktop</td>\n",
              "      <td>IE</td>\n",
              "      <td>US</td>\n",
              "    </tr>\n",
              "    <tr>\n",
              "      <th>3</th>\n",
              "      <td>bjjt8pjhuk</td>\n",
              "      <td>2011-12-05</td>\n",
              "      <td>20091031060129</td>\n",
              "      <td>2012-09-08</td>\n",
              "      <td>FEMALE</td>\n",
              "      <td>42.0</td>\n",
              "      <td>facebook</td>\n",
              "      <td>0</td>\n",
              "      <td>en</td>\n",
              "      <td>direct</td>\n",
              "      <td>direct</td>\n",
              "      <td>untracked</td>\n",
              "      <td>Web</td>\n",
              "      <td>Mac Desktop</td>\n",
              "      <td>Firefox</td>\n",
              "      <td>other</td>\n",
              "    </tr>\n",
              "    <tr>\n",
              "      <th>4</th>\n",
              "      <td>87mebub9p4</td>\n",
              "      <td>2010-09-14</td>\n",
              "      <td>20091208061105</td>\n",
              "      <td>2010-02-18</td>\n",
              "      <td>-unknown-</td>\n",
              "      <td>41.0</td>\n",
              "      <td>basic</td>\n",
              "      <td>0</td>\n",
              "      <td>en</td>\n",
              "      <td>direct</td>\n",
              "      <td>direct</td>\n",
              "      <td>untracked</td>\n",
              "      <td>Web</td>\n",
              "      <td>Mac Desktop</td>\n",
              "      <td>Chrome</td>\n",
              "      <td>US</td>\n",
              "    </tr>\n",
              "    <tr>\n",
              "      <th>...</th>\n",
              "      <td>...</td>\n",
              "      <td>...</td>\n",
              "      <td>...</td>\n",
              "      <td>...</td>\n",
              "      <td>...</td>\n",
              "      <td>...</td>\n",
              "      <td>...</td>\n",
              "      <td>...</td>\n",
              "      <td>...</td>\n",
              "      <td>...</td>\n",
              "      <td>...</td>\n",
              "      <td>...</td>\n",
              "      <td>...</td>\n",
              "      <td>...</td>\n",
              "      <td>...</td>\n",
              "      <td>...</td>\n",
              "    </tr>\n",
              "    <tr>\n",
              "      <th>213446</th>\n",
              "      <td>zxodksqpep</td>\n",
              "      <td>2014-06-30</td>\n",
              "      <td>20140630235636</td>\n",
              "      <td>NaN</td>\n",
              "      <td>MALE</td>\n",
              "      <td>32.0</td>\n",
              "      <td>basic</td>\n",
              "      <td>0</td>\n",
              "      <td>en</td>\n",
              "      <td>sem-brand</td>\n",
              "      <td>google</td>\n",
              "      <td>omg</td>\n",
              "      <td>Web</td>\n",
              "      <td>Mac Desktop</td>\n",
              "      <td>Safari</td>\n",
              "      <td>NDF</td>\n",
              "    </tr>\n",
              "    <tr>\n",
              "      <th>213447</th>\n",
              "      <td>mhewnxesx9</td>\n",
              "      <td>2014-06-30</td>\n",
              "      <td>20140630235719</td>\n",
              "      <td>NaN</td>\n",
              "      <td>-unknown-</td>\n",
              "      <td>NaN</td>\n",
              "      <td>basic</td>\n",
              "      <td>0</td>\n",
              "      <td>en</td>\n",
              "      <td>direct</td>\n",
              "      <td>direct</td>\n",
              "      <td>linked</td>\n",
              "      <td>Web</td>\n",
              "      <td>Windows Desktop</td>\n",
              "      <td>Chrome</td>\n",
              "      <td>NDF</td>\n",
              "    </tr>\n",
              "    <tr>\n",
              "      <th>213448</th>\n",
              "      <td>6o3arsjbb4</td>\n",
              "      <td>2014-06-30</td>\n",
              "      <td>20140630235754</td>\n",
              "      <td>NaN</td>\n",
              "      <td>-unknown-</td>\n",
              "      <td>32.0</td>\n",
              "      <td>basic</td>\n",
              "      <td>0</td>\n",
              "      <td>en</td>\n",
              "      <td>direct</td>\n",
              "      <td>direct</td>\n",
              "      <td>untracked</td>\n",
              "      <td>Web</td>\n",
              "      <td>Mac Desktop</td>\n",
              "      <td>Firefox</td>\n",
              "      <td>NDF</td>\n",
              "    </tr>\n",
              "    <tr>\n",
              "      <th>213449</th>\n",
              "      <td>jh95kwisub</td>\n",
              "      <td>2014-06-30</td>\n",
              "      <td>20140630235822</td>\n",
              "      <td>NaN</td>\n",
              "      <td>-unknown-</td>\n",
              "      <td>NaN</td>\n",
              "      <td>basic</td>\n",
              "      <td>25</td>\n",
              "      <td>en</td>\n",
              "      <td>other</td>\n",
              "      <td>other</td>\n",
              "      <td>tracked-other</td>\n",
              "      <td>iOS</td>\n",
              "      <td>iPhone</td>\n",
              "      <td>Mobile Safari</td>\n",
              "      <td>NDF</td>\n",
              "    </tr>\n",
              "    <tr>\n",
              "      <th>213450</th>\n",
              "      <td>nw9fwlyb5f</td>\n",
              "      <td>2014-06-30</td>\n",
              "      <td>20140630235824</td>\n",
              "      <td>NaN</td>\n",
              "      <td>-unknown-</td>\n",
              "      <td>NaN</td>\n",
              "      <td>basic</td>\n",
              "      <td>25</td>\n",
              "      <td>en</td>\n",
              "      <td>direct</td>\n",
              "      <td>direct</td>\n",
              "      <td>untracked</td>\n",
              "      <td>iOS</td>\n",
              "      <td>iPhone</td>\n",
              "      <td>-unknown-</td>\n",
              "      <td>NDF</td>\n",
              "    </tr>\n",
              "  </tbody>\n",
              "</table>\n",
              "<p>213451 rows × 16 columns</p>\n",
              "</div>\n",
              "      <button class=\"colab-df-convert\" onclick=\"convertToInteractive('df-ddb8f8e4-cd38-4eba-ad70-2c178fae2b44')\"\n",
              "              title=\"Convert this dataframe to an interactive table.\"\n",
              "              style=\"display:none;\">\n",
              "        \n",
              "  <svg xmlns=\"http://www.w3.org/2000/svg\" height=\"24px\"viewBox=\"0 0 24 24\"\n",
              "       width=\"24px\">\n",
              "    <path d=\"M0 0h24v24H0V0z\" fill=\"none\"/>\n",
              "    <path d=\"M18.56 5.44l.94 2.06.94-2.06 2.06-.94-2.06-.94-.94-2.06-.94 2.06-2.06.94zm-11 1L8.5 8.5l.94-2.06 2.06-.94-2.06-.94L8.5 2.5l-.94 2.06-2.06.94zm10 10l.94 2.06.94-2.06 2.06-.94-2.06-.94-.94-2.06-.94 2.06-2.06.94z\"/><path d=\"M17.41 7.96l-1.37-1.37c-.4-.4-.92-.59-1.43-.59-.52 0-1.04.2-1.43.59L10.3 9.45l-7.72 7.72c-.78.78-.78 2.05 0 2.83L4 21.41c.39.39.9.59 1.41.59.51 0 1.02-.2 1.41-.59l7.78-7.78 2.81-2.81c.8-.78.8-2.07 0-2.86zM5.41 20L4 18.59l7.72-7.72 1.47 1.35L5.41 20z\"/>\n",
              "  </svg>\n",
              "      </button>\n",
              "      \n",
              "  <style>\n",
              "    .colab-df-container {\n",
              "      display:flex;\n",
              "      flex-wrap:wrap;\n",
              "      gap: 12px;\n",
              "    }\n",
              "\n",
              "    .colab-df-convert {\n",
              "      background-color: #E8F0FE;\n",
              "      border: none;\n",
              "      border-radius: 50%;\n",
              "      cursor: pointer;\n",
              "      display: none;\n",
              "      fill: #1967D2;\n",
              "      height: 32px;\n",
              "      padding: 0 0 0 0;\n",
              "      width: 32px;\n",
              "    }\n",
              "\n",
              "    .colab-df-convert:hover {\n",
              "      background-color: #E2EBFA;\n",
              "      box-shadow: 0px 1px 2px rgba(60, 64, 67, 0.3), 0px 1px 3px 1px rgba(60, 64, 67, 0.15);\n",
              "      fill: #174EA6;\n",
              "    }\n",
              "\n",
              "    [theme=dark] .colab-df-convert {\n",
              "      background-color: #3B4455;\n",
              "      fill: #D2E3FC;\n",
              "    }\n",
              "\n",
              "    [theme=dark] .colab-df-convert:hover {\n",
              "      background-color: #434B5C;\n",
              "      box-shadow: 0px 1px 3px 1px rgba(0, 0, 0, 0.15);\n",
              "      filter: drop-shadow(0px 1px 2px rgba(0, 0, 0, 0.3));\n",
              "      fill: #FFFFFF;\n",
              "    }\n",
              "  </style>\n",
              "\n",
              "      <script>\n",
              "        const buttonEl =\n",
              "          document.querySelector('#df-ddb8f8e4-cd38-4eba-ad70-2c178fae2b44 button.colab-df-convert');\n",
              "        buttonEl.style.display =\n",
              "          google.colab.kernel.accessAllowed ? 'block' : 'none';\n",
              "\n",
              "        async function convertToInteractive(key) {\n",
              "          const element = document.querySelector('#df-ddb8f8e4-cd38-4eba-ad70-2c178fae2b44');\n",
              "          const dataTable =\n",
              "            await google.colab.kernel.invokeFunction('convertToInteractive',\n",
              "                                                     [key], {});\n",
              "          if (!dataTable) return;\n",
              "\n",
              "          const docLinkHtml = 'Like what you see? Visit the ' +\n",
              "            '<a target=\"_blank\" href=https://colab.research.google.com/notebooks/data_table.ipynb>data table notebook</a>'\n",
              "            + ' to learn more about interactive tables.';\n",
              "          element.innerHTML = '';\n",
              "          dataTable['output_type'] = 'display_data';\n",
              "          await google.colab.output.renderOutput(dataTable, element);\n",
              "          const docLink = document.createElement('div');\n",
              "          docLink.innerHTML = docLinkHtml;\n",
              "          element.appendChild(docLink);\n",
              "        }\n",
              "      </script>\n",
              "    </div>\n",
              "  </div>\n",
              "  "
            ]
          },
          "metadata": {},
          "execution_count": 19
        }
      ],
      "source": [
        "# The training and testing data \n",
        "print('The columns name of training dataset:\\n',train_users_dfm.columns)\n",
        "print('The number of users is: ', train_users_dfm.shape[0], ' with ',len( train_users_dfm.columns ), ' features.')\n",
        "train_users_dfm"
      ]
    },
    {
      "cell_type": "code",
      "execution_count": null,
      "metadata": {
        "colab": {
          "base_uri": "https://localhost:8080/"
        },
        "id": "E7VW9_Zv4_xE",
        "outputId": "2709e02a-8aac-404f-a87a-66eb2b1cdd6c"
      },
      "outputs": [
        {
          "output_type": "stream",
          "name": "stdout",
          "text": [
            "There are  87990  unknown ages.\n"
          ]
        }
      ],
      "source": [
        "# The number of unknown ages\n",
        "nanAges = train_users_dfm.age.isna().sum()\n",
        "print('There are ', nanAges, ' unknown ages.')"
      ]
    },
    {
      "cell_type": "code",
      "execution_count": null,
      "metadata": {
        "colab": {
          "base_uri": "https://localhost:8080/",
          "height": 498
        },
        "id": "KHkpf8XI4_xE",
        "outputId": "6a1550fa-7dac-4553-9503-7094f4ee2e02"
      },
      "outputs": [
        {
          "output_type": "stream",
          "name": "stdout",
          "text": [
            "16 \n",
            "\n",
            " 16\n"
          ]
        },
        {
          "output_type": "stream",
          "name": "stderr",
          "text": [
            "/usr/local/lib/python3.7/dist-packages/seaborn/_decorators.py:43: FutureWarning: Pass the following variables as keyword args: x, y. From version 0.12, the only valid positional argument will be `data`, and passing other arguments without an explicit keyword will result in an error or misinterpretation.\n",
            "  FutureWarning\n"
          ]
        },
        {
          "output_type": "execute_result",
          "data": {
            "text/plain": [
              "<matplotlib.axes._subplots.AxesSubplot at 0x7f6adfd47cd0>"
            ]
          },
          "metadata": {},
          "execution_count": 16
        },
        {
          "output_type": "display_data",
          "data": {
            "text/plain": [
              "<Figure size 720x432 with 1 Axes>"
            ],
            "image/png": "[encoded data removed]"
          },
          "metadata": {
            "needs_background": "light"
          }
        }
      ],
      "source": [
        "# In the age gender buckets, we have stats for every country, and each age bucket for these countries\n",
        "# These age buckets are of 5 intervals \n",
        "# Here we choose to have 15 intervals, and the unknown.\n",
        "train = train_users_dfm\n",
        "age_train =[train_users_dfm.age.isna().sum(),\n",
        "            train.query('age < 15').age.shape[0], train.query('age >= 15 & age <20').age.shape[0],\n",
        "            train.query('age >= 20 & age <25').age.shape[0], train.query('age >= 25 & age <30').age.shape[0],\n",
        "            train.query('age >= 30 & age <35').age.shape[0], train.query(\"age >= 35 & age <40\").age.shape[0],\n",
        "            train.query(\"age >= 40 & age <45\").age.shape[0], train.query(\"age >= 45 & age <50\").age.shape[0],\n",
        "            train.query(\"age >= 50 & age <55\").age.shape[0], train.query(\"age >= 55 & age <60\").age.shape[0],\n",
        "            train.query(\"age >= 60 & age <65\").age.shape[0], train.query(\"age >= 65 & age <70\").age.shape[0],\n",
        "            train.query(\"age >= 70 & age <75\").age.shape[0], train.query(\"age >= 75 & age <80\").age.shape[0],\n",
        "            train.query(\"age >= 80\").age.shape[0]]\n",
        "\n",
        "age_buckets_14 = ['Nan','<15', '15-19', '20-24', '25-29', '30-34','35-39', '40-44', '45-49', '50-54', '55-59', '60-64', '65-69', '70-74', '75-79', '80+']\n",
        "print(len(age_buckets_14), '\\n\\n', len(age_train))\n",
        "# plot\n",
        "fig = plt.figure(figsize=(10,6))\n",
        "sns.barplot(age_buckets_14, age_train)"
      ]
    },
    {
      "cell_type": "code",
      "execution_count": null,
      "metadata": {
        "colab": {
          "base_uri": "https://localhost:8080/"
        },
        "id": "tmP9ti2E4_xG",
        "outputId": "9c82ba0a-04c7-4a1d-c657-18e29e6ae176"
      },
      "outputs": [
        {
          "output_type": "stream",
          "name": "stdout",
          "text": [
            "[87990, 57, 10778, 55694, 30759, 14521, 7599, 2902, 481, 2670]\n"
          ]
        }
      ],
      "source": [
        "# In the age gender buckets, we have stats for every country, and each age bucket for these countries\n",
        "# These age buckets are of 5 intervals \n",
        "train = train_users_dfm\n",
        "age_train =[train_users_dfm.age.isna().sum(),\n",
        "            train.query('age < 15').age.shape[0], train.query('age >= 15 & age <25').age.shape[0],\n",
        "            train.query('age >= 25 & age <35').age.shape[0], train.query('age >= 35 & age <45').age.shape[0],\n",
        "            train.query('age >= 45 & age <55').age.shape[0], train.query(\"age >= 55 & age <65\").age.shape[0],\n",
        "            train.query(\"age >= 65 & age <75\").age.shape[0], train.query(\"age >= 75 & age <85\").age.shape[0],\n",
        "            train.query('age >= 85').age.shape[0]]\n",
        "\n",
        "\n",
        "print(age_train)"
      ]
    },
    {
      "cell_type": "code",
      "execution_count": null,
      "metadata": {
        "colab": {
          "base_uri": "https://localhost:8080/",
          "height": 449
        },
        "id": "2nPhr3zO4_xH",
        "outputId": "ddc539a4-4680-4270-ccd5-4518c6753ea4"
      },
      "outputs": [
        {
          "output_type": "stream",
          "name": "stderr",
          "text": [
            "/usr/local/lib/python3.7/dist-packages/seaborn/_decorators.py:43: FutureWarning: Pass the following variables as keyword args: x, y. From version 0.12, the only valid positional argument will be `data`, and passing other arguments without an explicit keyword will result in an error or misinterpretation.\n",
            "  FutureWarning\n"
          ]
        },
        {
          "output_type": "execute_result",
          "data": {
            "text/plain": [
              "<matplotlib.axes._subplots.AxesSubplot at 0x7f6af662d310>"
            ]
          },
          "metadata": {},
          "execution_count": 18
        },
        {
          "output_type": "display_data",
          "data": {
            "text/plain": [
              "<Figure size 720x432 with 1 Axes>"
            ],
            "image/png": "[encoded data removed]"
          },
          "metadata": {
            "needs_background": "light"
          }
        }
      ],
      "source": [
        "genders = train_users_dfm['gender'].value_counts()\n",
        "# plot\n",
        "fig = plt.figure(figsize=(10,6))\n",
        "labels = ['Nan', 'Female', ' Male', 'OTHER']\n",
        "sns.barplot(labels, genders)\n"
      ]
    },
    {
      "cell_type": "code",
      "execution_count": null,
      "metadata": {
        "id": "q-zuM_Vw4_xH"
      },
      "outputs": [],
      "source": [
        "def vizualizeFeatures(feature, df_train = train_users_dfm, df_test = test_users_dfm, figsize=(10,5), rot = 90, saveimg = True): \n",
        "    #  df_train[feature].value_counts().sum()\n",
        "    feat_train = df_train[feature].value_counts()\n",
        "    feat_test = df_test[feature].value_counts()\n",
        "\n",
        "    # Plot 2 graphs next to each other\n",
        "    fig_feature, (a1,a2) = plt.subplots(1,2,sharex=True, sharey = True, figsize = figsize)\n",
        "\n",
        "    sns.barplot(feat_train.index.values, feat_train.values, ax = a1)\n",
        "    sns.barplot(feat_test.index.values, feat_test.values, ax = a2)\n",
        "\n",
        "    a1.set_xticklabels(a1.xaxis.get_majorticklabels(), rotation = rot)\n",
        "    a2.set_xticklabels(a1.xaxis.get_majorticklabels(), rotation = rot)\n",
        "    a1.set_title(feature + ' of training dataset')\n",
        "    a2.set_title(feature + ' of test dataset')\n",
        "    a1.set_ylabel('Counts')\n",
        "    plt.tight_layout()\n",
        "    if saveimg == True:\n",
        "        figname = feature + \".png\"\n",
        "        fig_feature.savefig(figname, dpi = 75)\n",
        "\n"
      ]
    },
    {
      "cell_type": "code",
      "execution_count": null,
      "metadata": {
        "colab": {
          "base_uri": "https://localhost:8080/",
          "height": 1000
        },
        "id": "dV2HfrAf4_xJ",
        "outputId": "1b403053-c226-464c-ab4d-6bd5015b94e4"
      },
      "outputs": [
        {
          "output_type": "stream",
          "name": "stderr",
          "text": [
            "/usr/local/lib/python3.7/dist-packages/seaborn/_decorators.py:43: FutureWarning: Pass the following variables as keyword args: x, y. From version 0.12, the only valid positional argument will be `data`, and passing other arguments without an explicit keyword will result in an error or misinterpretation.\n",
            "  FutureWarning\n",
            "/usr/local/lib/python3.7/dist-packages/seaborn/_decorators.py:43: FutureWarning: Pass the following variables as keyword args: x, y. From version 0.12, the only valid positional argument will be `data`, and passing other arguments without an explicit keyword will result in an error or misinterpretation.\n",
            "  FutureWarning\n",
            "/usr/local/lib/python3.7/dist-packages/seaborn/_decorators.py:43: FutureWarning: Pass the following variables as keyword args: x, y. From version 0.12, the only valid positional argument will be `data`, and passing other arguments without an explicit keyword will result in an error or misinterpretation.\n",
            "  FutureWarning\n",
            "/usr/local/lib/python3.7/dist-packages/seaborn/_decorators.py:43: FutureWarning: Pass the following variables as keyword args: x, y. From version 0.12, the only valid positional argument will be `data`, and passing other arguments without an explicit keyword will result in an error or misinterpretation.\n",
            "  FutureWarning\n",
            "/usr/local/lib/python3.7/dist-packages/seaborn/_decorators.py:43: FutureWarning: Pass the following variables as keyword args: x, y. From version 0.12, the only valid positional argument will be `data`, and passing other arguments without an explicit keyword will result in an error or misinterpretation.\n",
            "  FutureWarning\n",
            "/usr/local/lib/python3.7/dist-packages/seaborn/_decorators.py:43: FutureWarning: Pass the following variables as keyword args: x, y. From version 0.12, the only valid positional argument will be `data`, and passing other arguments without an explicit keyword will result in an error or misinterpretation.\n",
            "  FutureWarning\n",
            "/usr/local/lib/python3.7/dist-packages/seaborn/_decorators.py:43: FutureWarning: Pass the following variables as keyword args: x, y. From version 0.12, the only valid positional argument will be `data`, and passing other arguments without an explicit keyword will result in an error or misinterpretation.\n",
            "  FutureWarning\n",
            "/usr/local/lib/python3.7/dist-packages/seaborn/_decorators.py:43: FutureWarning: Pass the following variables as keyword args: x, y. From version 0.12, the only valid positional argument will be `data`, and passing other arguments without an explicit keyword will result in an error or misinterpretation.\n",
            "  FutureWarning\n"
          ]
        },
        {
          "output_type": "display_data",
          "data": {
            "text/plain": [
              "<Figure size 720x360 with 2 Axes>"
            ],
            "image/png": "[encoded data removed]"
          },
          "metadata": {
            "needs_background": "light"
          }
        },
        {
          "output_type": "display_data",
          "data": {
            "text/plain": [
              "<Figure size 720x360 with 2 Axes>"
            ],
            "image/png": "[encoded data removed]"
          },
          "metadata": {
            "needs_background": "light"
          }
        },
        {
          "output_type": "display_data",
          "data": {
            "text/plain": [
              "<Figure size 720x360 with 2 Axes>"
            ],
            "image/png": "[encoded data removed]"
          },
          "metadata": {
            "needs_background": "light"
          }
        },
        {
          "output_type": "display_data",
          "data": {
            "text/plain": [
              "<Figure size 720x360 with 2 Axes>"
            ],
            "image/png": "[encoded data removed]"
          },
          "metadata": {
            "needs_background": "light"
          }
        }
      ],
      "source": [
        "vizualizeFeatures('gender')\n",
        "# Note proble mi nsign up, train has no users signing  up by google, but test has relatively a lot\n",
        "vizualizeFeatures('signup_method')\n",
        "vizualizeFeatures('first_browser')\n",
        "vizualizeFeatures('signup_flow')\n"
      ]
    },
    {
      "cell_type": "code",
      "execution_count": null,
      "metadata": {
        "id": "evD9bAfU4_xJ",
        "outputId": "905f94e4-0cce-4bc5-9bd2-45e1b4025cc1"
      },
      "outputs": [
        {
          "name": "stdout",
          "output_type": "stream",
          "text": [
            "(4,)\n"
          ]
        }
      ],
      "source": [
        "print(genders.shape)"
      ]
    },
    {
      "cell_type": "code",
      "execution_count": null,
      "metadata": {
        "id": "ZA1oeYS04_xK",
        "outputId": "4594296c-beca-4d02-bdf6-5892b71b87ca"
      },
      "outputs": [
        {
          "name": "stdout",
          "output_type": "stream",
          "text": [
            "id                              0\n",
            "date_account_created            0\n",
            "timestamp_first_active          0\n",
            "date_first_booking         124543\n",
            "gender                          0\n",
            "age                         87990\n",
            "signup_method                   0\n",
            "signup_flow                     0\n",
            "language                        0\n",
            "affiliate_channel               0\n",
            "affiliate_provider              0\n",
            "first_affiliate_tracked      6065\n",
            "signup_app                      0\n",
            "first_device_type               0\n",
            "first_browser                   0\n",
            "country_destination             0\n",
            "dtype: int64\n"
          ]
        }
      ],
      "source": [
        "print(train_users_dfm.isnull().sum())"
      ]
    },
    {
      "cell_type": "code",
      "execution_count": null,
      "metadata": {
        "id": "sqSSS13A4_xK",
        "outputId": "165ae7e7-fe0a-4582-caf9-06690257a0d9"
      },
      "outputs": [
        {
          "name": "stdout",
          "output_type": "stream",
          "text": [
            "Value counts for gender: \n",
            " -unknown-    95688\n",
            "FEMALE       63041\n",
            "MALE         54440\n",
            "OTHER          282\n",
            "Name: gender, dtype: int64 \n",
            "\n",
            "\n",
            "Value counts for destination country:\n",
            " NDF      124543\n",
            "US        62376\n",
            "other     10094\n",
            "FR         5023\n",
            "IT         2835\n",
            "GB         2324\n",
            "ES         2249\n",
            "CA         1428\n",
            "DE         1061\n",
            "NL          762\n",
            "AU          539\n",
            "PT          217\n",
            "Name: country_destination, dtype: int64\n"
          ]
        }
      ],
      "source": [
        "print('Value counts for gender: \\n', train_users_dfm['gender'].value_counts(), '\\n\\n')\n",
        "print('Value counts for destination country:\\n', train_users_dfm['country_destination'].value_counts())"
      ]
    },
    {
      "cell_type": "code",
      "execution_count": null,
      "metadata": {
        "colab": {
          "base_uri": "https://localhost:8080/",
          "height": 295
        },
        "id": "CR305WFB4_xL",
        "outputId": "f853834c-ac67-472b-b835-29d7ec73e8c5"
      },
      "outputs": [
        {
          "output_type": "display_data",
          "data": {
            "text/plain": [
              "<Figure size 432x288 with 1 Axes>"
            ],
            "image/png": "[encoded data removed]"
          },
          "metadata": {
            "needs_background": "light"
          }
        }
      ],
      "source": [
        "# Extract date accout creation from train, convert  to date\n",
        "dac_train = train_users_dfm.date_account_created.value_counts()\n",
        "dac_train_date = pd.to_datetime(train_users_dfm.date_account_created.value_counts().index)\n",
        "# Assume first user is 1st day of website launch, and get dates since\n",
        "dac_train_day = dac_train_date - dac_train_date.min()\n",
        "\n",
        "# repeat for test users\n",
        "dac_test = test_users_dfm.date_account_created.value_counts()\n",
        "dac_test_date = pd.to_datetime(test_users_dfm.date_account_created.value_counts().index)\n",
        "dac_test_day = dac_test_date - dac_train_date.min()\n",
        "\n",
        "# Sketch a scatter of days age of account and count of new users in that dat\n",
        "plt.scatter(dac_train_day.days, dac_train.values, color = 'y', label = 'train dataset')\n",
        "plt.scatter(dac_test_day.days, dac_test.values, color = 'g', label = 'test dataset')\n",
        "\n",
        "plt.title(\"Accounts created count vs day\")\n",
        "plt.xlabel(\"Days\")\n",
        "plt.ylabel(\"New accounts \")\n",
        "plt.rcParams[\"figure.figsize\"] = (30,15)"
      ]
    },
    {
      "cell_type": "markdown",
      "source": [
        "**Cleaning Phase**"
      ],
      "metadata": {
        "id": "wQilKoWQKR6d"
      }
    },
    {
      "cell_type": "code",
      "execution_count": null,
      "metadata": {
        "id": "9Yb3zFXr4_xM"
      },
      "outputs": [],
      "source": [
        "#Read Data\n",
        "train = pd.read_csv('train_users.csv/train_users.csv', index_col=None)\n",
        "test = pd.read_csv('test_users.csv/test_users.csv', index_col=None)"
      ]
    },
    {
      "cell_type": "code",
      "execution_count": null,
      "metadata": {
        "colab": {
          "base_uri": "https://localhost:8080/",
          "height": 305
        },
        "id": "HjHzTeSQ4_xM",
        "outputId": "331b1bd3-f3b9-4621-b95b-d01986a13503"
      },
      "outputs": [
        {
          "output_type": "execute_result",
          "data": {
            "text/plain": [
              "           id date_account_created  timestamp_first_active date_first_booking  \\\n",
              "0  gxn3p5htnn           2010-06-28          20090319043255                NaN   \n",
              "1  820tgsjxq7           2011-05-25          20090523174809                NaN   \n",
              "2  4ft3gnwmtx           2010-09-28          20090609231247         2010-08-02   \n",
              "3  bjjt8pjhuk           2011-12-05          20091031060129         2012-09-08   \n",
              "4  87mebub9p4           2010-09-14          20091208061105         2010-02-18   \n",
              "\n",
              "      gender   age signup_method  signup_flow language affiliate_channel  \\\n",
              "0  -unknown-   NaN      facebook            0       en            direct   \n",
              "1       MALE  38.0      facebook            0       en               seo   \n",
              "2     FEMALE  56.0         basic            3       en            direct   \n",
              "3     FEMALE  42.0      facebook            0       en            direct   \n",
              "4  -unknown-  41.0         basic            0       en            direct   \n",
              "\n",
              "  affiliate_provider first_affiliate_tracked signup_app first_device_type  \\\n",
              "0             direct               untracked        Web       Mac Desktop   \n",
              "1             google               untracked        Web       Mac Desktop   \n",
              "2             direct               untracked        Web   Windows Desktop   \n",
              "3             direct               untracked        Web       Mac Desktop   \n",
              "4             direct               untracked        Web       Mac Desktop   \n",
              "\n",
              "  first_browser country_destination  \n",
              "0        Chrome                 NDF  \n",
              "1        Chrome                 NDF  \n",
              "2            IE                  US  \n",
              "3       Firefox               other  \n",
              "4        Chrome                  US  "
            ],
            "text/html": [
              "\n",
              "  <div id=\"df-9f9eac23-915e-473d-961c-2adbc7a1aa31\">\n",
              "    <div class=\"colab-df-container\">\n",
              "      <div>\n",
              "<style scoped>\n",
              "    .dataframe tbody tr th:only-of-type {\n",
              "        vertical-align: middle;\n",
              "    }\n",
              "\n",
              "    .dataframe tbody tr th {\n",
              "        vertical-align: top;\n",
              "    }\n",
              "\n",
              "    .dataframe thead th {\n",
              "        text-align: right;\n",
              "    }\n",
              "</style>\n",
              "<table border=\"1\" class=\"dataframe\">\n",
              "  <thead>\n",
              "    <tr style=\"text-align: right;\">\n",
              "      <th></th>\n",
              "      <th>id</th>\n",
              "      <th>date_account_created</th>\n",
              "      <th>timestamp_first_active</th>\n",
              "      <th>date_first_booking</th>\n",
              "      <th>gender</th>\n",
              "      <th>age</th>\n",
              "      <th>signup_method</th>\n",
              "      <th>signup_flow</th>\n",
              "      <th>language</th>\n",
              "      <th>affiliate_channel</th>\n",
              "      <th>affiliate_provider</th>\n",
              "      <th>first_affiliate_tracked</th>\n",
              "      <th>signup_app</th>\n",
              "      <th>first_device_type</th>\n",
              "      <th>first_browser</th>\n",
              "      <th>country_destination</th>\n",
              "    </tr>\n",
              "  </thead>\n",
              "  <tbody>\n",
              "    <tr>\n",
              "      <th>0</th>\n",
              "      <td>gxn3p5htnn</td>\n",
              "      <td>2010-06-28</td>\n",
              "      <td>20090319043255</td>\n",
              "      <td>NaN</td>\n",
              "      <td>-unknown-</td>\n",
              "      <td>NaN</td>\n",
              "      <td>facebook</td>\n",
              "      <td>0</td>\n",
              "      <td>en</td>\n",
              "      <td>direct</td>\n",
              "      <td>direct</td>\n",
              "      <td>untracked</td>\n",
              "      <td>Web</td>\n",
              "      <td>Mac Desktop</td>\n",
              "      <td>Chrome</td>\n",
              "      <td>NDF</td>\n",
              "    </tr>\n",
              "    <tr>\n",
              "      <th>1</th>\n",
              "      <td>820tgsjxq7</td>\n",
              "      <td>2011-05-25</td>\n",
              "      <td>20090523174809</td>\n",
              "      <td>NaN</td>\n",
              "      <td>MALE</td>\n",
              "      <td>38.0</td>\n",
              "      <td>facebook</td>\n",
              "      <td>0</td>\n",
              "      <td>en</td>\n",
              "      <td>seo</td>\n",
              "      <td>google</td>\n",
              "      <td>untracked</td>\n",
              "      <td>Web</td>\n",
              "      <td>Mac Desktop</td>\n",
              "      <td>Chrome</td>\n",
              "      <td>NDF</td>\n",
              "    </tr>\n",
              "    <tr>\n",
              "      <th>2</th>\n",
              "      <td>4ft3gnwmtx</td>\n",
              "      <td>2010-09-28</td>\n",
              "      <td>20090609231247</td>\n",
              "      <td>2010-08-02</td>\n",
              "      <td>FEMALE</td>\n",
              "      <td>56.0</td>\n",
              "      <td>basic</td>\n",
              "      <td>3</td>\n",
              "      <td>en</td>\n",
              "      <td>direct</td>\n",
              "      <td>direct</td>\n",
              "      <td>untracked</td>\n",
              "      <td>Web</td>\n",
              "      <td>Windows Desktop</td>\n",
              "      <td>IE</td>\n",
              "      <td>US</td>\n",
              "    </tr>\n",
              "    <tr>\n",
              "      <th>3</th>\n",
              "      <td>bjjt8pjhuk</td>\n",
              "      <td>2011-12-05</td>\n",
              "      <td>20091031060129</td>\n",
              "      <td>2012-09-08</td>\n",
              "      <td>FEMALE</td>\n",
              "      <td>42.0</td>\n",
              "      <td>facebook</td>\n",
              "      <td>0</td>\n",
              "      <td>en</td>\n",
              "      <td>direct</td>\n",
              "      <td>direct</td>\n",
              "      <td>untracked</td>\n",
              "      <td>Web</td>\n",
              "      <td>Mac Desktop</td>\n",
              "      <td>Firefox</td>\n",
              "      <td>other</td>\n",
              "    </tr>\n",
              "    <tr>\n",
              "      <th>4</th>\n",
              "      <td>87mebub9p4</td>\n",
              "      <td>2010-09-14</td>\n",
              "      <td>20091208061105</td>\n",
              "      <td>2010-02-18</td>\n",
              "      <td>-unknown-</td>\n",
              "      <td>41.0</td>\n",
              "      <td>basic</td>\n",
              "      <td>0</td>\n",
              "      <td>en</td>\n",
              "      <td>direct</td>\n",
              "      <td>direct</td>\n",
              "      <td>untracked</td>\n",
              "      <td>Web</td>\n",
              "      <td>Mac Desktop</td>\n",
              "      <td>Chrome</td>\n",
              "      <td>US</td>\n",
              "    </tr>\n",
              "  </tbody>\n",
              "</table>\n",
              "</div>\n",
              "      <button class=\"colab-df-convert\" onclick=\"convertToInteractive('df-9f9eac23-915e-473d-961c-2adbc7a1aa31')\"\n",
              "              title=\"Convert this dataframe to an interactive table.\"\n",
              "              style=\"display:none;\">\n",
              "        \n",
              "  <svg xmlns=\"http://www.w3.org/2000/svg\" height=\"24px\"viewBox=\"0 0 24 24\"\n",
              "       width=\"24px\">\n",
              "    <path d=\"M0 0h24v24H0V0z\" fill=\"none\"/>\n",
              "    <path d=\"M18.56 5.44l.94 2.06.94-2.06 2.06-.94-2.06-.94-.94-2.06-.94 2.06-2.06.94zm-11 1L8.5 8.5l.94-2.06 2.06-.94-2.06-.94L8.5 2.5l-.94 2.06-2.06.94zm10 10l.94 2.06.94-2.06 2.06-.94-2.06-.94-.94-2.06-.94 2.06-2.06.94z\"/><path d=\"M17.41 7.96l-1.37-1.37c-.4-.4-.92-.59-1.43-.59-.52 0-1.04.2-1.43.59L10.3 9.45l-7.72 7.72c-.78.78-.78 2.05 0 2.83L4 21.41c.39.39.9.59 1.41.59.51 0 1.02-.2 1.41-.59l7.78-7.78 2.81-2.81c.8-.78.8-2.07 0-2.86zM5.41 20L4 18.59l7.72-7.72 1.47 1.35L5.41 20z\"/>\n",
              "  </svg>\n",
              "      </button>\n",
              "      \n",
              "  <style>\n",
              "    .colab-df-container {\n",
              "      display:flex;\n",
              "      flex-wrap:wrap;\n",
              "      gap: 12px;\n",
              "    }\n",
              "\n",
              "    .colab-df-convert {\n",
              "      background-color: #E8F0FE;\n",
              "      border: none;\n",
              "      border-radius: 50%;\n",
              "      cursor: pointer;\n",
              "      display: none;\n",
              "      fill: #1967D2;\n",
              "      height: 32px;\n",
              "      padding: 0 0 0 0;\n",
              "      width: 32px;\n",
              "    }\n",
              "\n",
              "    .colab-df-convert:hover {\n",
              "      background-color: #E2EBFA;\n",
              "      box-shadow: 0px 1px 2px rgba(60, 64, 67, 0.3), 0px 1px 3px 1px rgba(60, 64, 67, 0.15);\n",
              "      fill: #174EA6;\n",
              "    }\n",
              "\n",
              "    [theme=dark] .colab-df-convert {\n",
              "      background-color: #3B4455;\n",
              "      fill: #D2E3FC;\n",
              "    }\n",
              "\n",
              "    [theme=dark] .colab-df-convert:hover {\n",
              "      background-color: #434B5C;\n",
              "      box-shadow: 0px 1px 3px 1px rgba(0, 0, 0, 0.15);\n",
              "      filter: drop-shadow(0px 1px 2px rgba(0, 0, 0, 0.3));\n",
              "      fill: #FFFFFF;\n",
              "    }\n",
              "  </style>\n",
              "\n",
              "      <script>\n",
              "        const buttonEl =\n",
              "          document.querySelector('#df-9f9eac23-915e-473d-961c-2adbc7a1aa31 button.colab-df-convert');\n",
              "        buttonEl.style.display =\n",
              "          google.colab.kernel.accessAllowed ? 'block' : 'none';\n",
              "\n",
              "        async function convertToInteractive(key) {\n",
              "          const element = document.querySelector('#df-9f9eac23-915e-473d-961c-2adbc7a1aa31');\n",
              "          const dataTable =\n",
              "            await google.colab.kernel.invokeFunction('convertToInteractive',\n",
              "                                                     [key], {});\n",
              "          if (!dataTable) return;\n",
              "\n",
              "          const docLinkHtml = 'Like what you see? Visit the ' +\n",
              "            '<a target=\"_blank\" href=https://colab.research.google.com/notebooks/data_table.ipynb>data table notebook</a>'\n",
              "            + ' to learn more about interactive tables.';\n",
              "          element.innerHTML = '';\n",
              "          dataTable['output_type'] = 'display_data';\n",
              "          await google.colab.output.renderOutput(dataTable, element);\n",
              "          const docLink = document.createElement('div');\n",
              "          docLink.innerHTML = docLinkHtml;\n",
              "          element.appendChild(docLink);\n",
              "        }\n",
              "      </script>\n",
              "    </div>\n",
              "  </div>\n",
              "  "
            ]
          },
          "metadata": {},
          "execution_count": 157
        }
      ],
      "source": [
        "train.head()"
      ]
    },
    {
      "cell_type": "markdown",
      "source": [
        "**Remove irrevelant features**"
      ],
      "metadata": {
        "id": "frTeZUpiESVZ"
      }
    },
    {
      "cell_type": "code",
      "source": [
        "train = train.drop([\"id\"],axis=1)"
      ],
      "metadata": {
        "id": "f9xeCiA4EEW6"
      },
      "execution_count": null,
      "outputs": []
    },
    {
      "cell_type": "code",
      "source": [
        "# The number of unknown in all features\n",
        "nanAges = train.age.isna().sum()\n",
        "print('There are ', nanAges, ' unknown ages.')\n",
        "nanTime = train.timestamp_first_active.isna().sum()\n",
        "print('There are ', nanTime, ' unknown time stamp.')\n",
        "nanGender = train.gender.isna().sum()\n",
        "print('There are ', nanGender, ' unknown gender.')"
      ],
      "metadata": {
        "colab": {
          "base_uri": "https://localhost:8080/"
        },
        "id": "2Kq2wOedJLyT",
        "outputId": "900b1921-49be-4b56-f879-5ea77328aec9"
      },
      "execution_count": null,
      "outputs": [
        {
          "output_type": "stream",
          "name": "stdout",
          "text": [
            "There are  87990  unknown ages.\n",
            "There are  0  unknown time stamp.\n",
            "There are  0  unknown gender.\n"
          ]
        }
      ]
    },
    {
      "cell_type": "code",
      "source": [
        "# Replace gender unknown with probability of occurences\n",
        "train['gender'].replace('-unknown-', np.nan, inplace=True)\n",
        "s = train['gender'].value_counts()\n",
        "p = s / s.sum()\n",
        "train.loc[train['gender'].isna(), 'gender'] = np.random.choice(s.index, p=p, size=train['gender'].isna().sum())\n",
        "# print(data['gender'].value_counts())"
      ],
      "metadata": {
        "id": "ebkiRB-9zWV6"
      },
      "execution_count": null,
      "outputs": []
    },
    {
      "cell_type": "markdown",
      "source": [
        "**Deal with timestamp_first_active -> divide it to day,month,year, weekday,season**"
      ],
      "metadata": {
        "id": "Xb83d15cJt2t"
      }
    },
    {
      "cell_type": "code",
      "source": [
        "year_ = 2000\n",
        "seasons = [(0, (date(year_,  1,  1),  date(year_,  3, 1))),  #'winter'\n",
        "           (1, (date(year_,  3, 2),  date(year_,  6, 1))),  #'spring'\n",
        "           (2, (date(year_,  6, 2),  date(year_,  9, 1))),  #'summer'\n",
        "           (3, (date(year_,  9, 2),  date(year_, 12, 1))),  #'autumn'\n",
        "           (0, (date(year_, 12, 2),  date(year_, 12, 31)))]  #'winter'\n",
        "def divide_season(curr_date):\n",
        "    curr_date = curr_date.date() \n",
        "    curr_date = curr_date.replace(year=year_)\n",
        "    return next(season for season, (start, end) in seasons if start <= curr_date <= end)\n",
        "\n",
        "time_stamp = train.timestamp_first_active.astype(str).apply(lambda x: datetime.datetime(\n",
        "                                                                          int(x[:4]),\n",
        "                                                                          int(x[4:6]), \n",
        "                                                                          int(x[6:8]),\n",
        "                                                                          int(x[8:10]),\n",
        "                                                                          int(x[10:12]),\n",
        "                                                                          int(x[12:])))\n",
        "\n",
        "# create year, month, day, weekday, season  features\n",
        "train['time_year'] = np.array([x.year for x in time_stamp])\n",
        "train['time_month'] = np.array([x.month for x in time_stamp])\n",
        "train['time_day'] = np.array([x.day for x in time_stamp])\n",
        "train['time_weekday'] = np.array([x.isoweekday() for x in time_stamp]) \n",
        "train['time_season'] = np.array([divide_season(x) for x in time_stamp])\n"
      ],
      "metadata": {
        "id": "OxRtRY3BJtSe"
      },
      "execution_count": null,
      "outputs": []
    },
    {
      "cell_type": "code",
      "source": [
        "# fill date_first_booking na values with date_account_created \n",
        "train['date_first_booking'].fillna(train['date_account_created'], inplace=True)"
      ],
      "metadata": {
        "id": "znR22CHQzj2P"
      },
      "execution_count": null,
      "outputs": []
    },
    {
      "cell_type": "code",
      "source": [
        "train.head()"
      ],
      "metadata": {
        "colab": {
          "base_uri": "https://localhost:8080/",
          "height": 270
        },
        "id": "PyurKN-ZPFhK",
        "outputId": "e5ac58ea-68dd-4f67-8b6e-0e64a43e0ec8"
      },
      "execution_count": null,
      "outputs": [
        {
          "output_type": "execute_result",
          "data": {
            "text/plain": [
              "  date_account_created  timestamp_first_active date_first_booking  gender  \\\n",
              "0           2010-06-28          20090319043255         2010-06-28    MALE   \n",
              "1           2011-05-25          20090523174809         2011-05-25    MALE   \n",
              "2           2010-09-28          20090609231247         2010-08-02  FEMALE   \n",
              "3           2011-12-05          20091031060129         2012-09-08  FEMALE   \n",
              "4           2010-09-14          20091208061105         2010-02-18    MALE   \n",
              "\n",
              "    age signup_method  signup_flow language affiliate_channel  \\\n",
              "0   NaN      facebook            0       en            direct   \n",
              "1  38.0      facebook            0       en               seo   \n",
              "2  56.0         basic            3       en            direct   \n",
              "3  42.0      facebook            0       en            direct   \n",
              "4  41.0         basic            0       en            direct   \n",
              "\n",
              "  affiliate_provider first_affiliate_tracked signup_app first_device_type  \\\n",
              "0             direct               untracked        Web       Mac Desktop   \n",
              "1             google               untracked        Web       Mac Desktop   \n",
              "2             direct               untracked        Web   Windows Desktop   \n",
              "3             direct               untracked        Web       Mac Desktop   \n",
              "4             direct               untracked        Web       Mac Desktop   \n",
              "\n",
              "  first_browser country_destination  time_year  time_month  time_day  \\\n",
              "0        Chrome                 NDF       2009           3        19   \n",
              "1        Chrome                 NDF       2009           5        23   \n",
              "2            IE                  US       2009           6         9   \n",
              "3       Firefox               other       2009          10        31   \n",
              "4        Chrome                  US       2009          12         8   \n",
              "\n",
              "   time_weekday  time_season  \n",
              "0             4            1  \n",
              "1             6            1  \n",
              "2             2            2  \n",
              "3             6            3  \n",
              "4             2            0  "
            ],
            "text/html": [
              "\n",
              "  <div id=\"df-c0593b2c-ea4b-4c9a-8acf-687992d22760\">\n",
              "    <div class=\"colab-df-container\">\n",
              "      <div>\n",
              "<style scoped>\n",
              "    .dataframe tbody tr th:only-of-type {\n",
              "        vertical-align: middle;\n",
              "    }\n",
              "\n",
              "    .dataframe tbody tr th {\n",
              "        vertical-align: top;\n",
              "    }\n",
              "\n",
              "    .dataframe thead th {\n",
              "        text-align: right;\n",
              "    }\n",
              "</style>\n",
              "<table border=\"1\" class=\"dataframe\">\n",
              "  <thead>\n",
              "    <tr style=\"text-align: right;\">\n",
              "      <th></th>\n",
              "      <th>date_account_created</th>\n",
              "      <th>timestamp_first_active</th>\n",
              "      <th>date_first_booking</th>\n",
              "      <th>gender</th>\n",
              "      <th>age</th>\n",
              "      <th>signup_method</th>\n",
              "      <th>signup_flow</th>\n",
              "      <th>language</th>\n",
              "      <th>affiliate_channel</th>\n",
              "      <th>affiliate_provider</th>\n",
              "      <th>first_affiliate_tracked</th>\n",
              "      <th>signup_app</th>\n",
              "      <th>first_device_type</th>\n",
              "      <th>first_browser</th>\n",
              "      <th>country_destination</th>\n",
              "      <th>time_year</th>\n",
              "      <th>time_month</th>\n",
              "      <th>time_day</th>\n",
              "      <th>time_weekday</th>\n",
              "      <th>time_season</th>\n",
              "    </tr>\n",
              "  </thead>\n",
              "  <tbody>\n",
              "    <tr>\n",
              "      <th>0</th>\n",
              "      <td>2010-06-28</td>\n",
              "      <td>20090319043255</td>\n",
              "      <td>2010-06-28</td>\n",
              "      <td>MALE</td>\n",
              "      <td>NaN</td>\n",
              "      <td>facebook</td>\n",
              "      <td>0</td>\n",
              "      <td>en</td>\n",
              "      <td>direct</td>\n",
              "      <td>direct</td>\n",
              "      <td>untracked</td>\n",
              "      <td>Web</td>\n",
              "      <td>Mac Desktop</td>\n",
              "      <td>Chrome</td>\n",
              "      <td>NDF</td>\n",
              "      <td>2009</td>\n",
              "      <td>3</td>\n",
              "      <td>19</td>\n",
              "      <td>4</td>\n",
              "      <td>1</td>\n",
              "    </tr>\n",
              "    <tr>\n",
              "      <th>1</th>\n",
              "      <td>2011-05-25</td>\n",
              "      <td>20090523174809</td>\n",
              "      <td>2011-05-25</td>\n",
              "      <td>MALE</td>\n",
              "      <td>38.0</td>\n",
              "      <td>facebook</td>\n",
              "      <td>0</td>\n",
              "      <td>en</td>\n",
              "      <td>seo</td>\n",
              "      <td>google</td>\n",
              "      <td>untracked</td>\n",
              "      <td>Web</td>\n",
              "      <td>Mac Desktop</td>\n",
              "      <td>Chrome</td>\n",
              "      <td>NDF</td>\n",
              "      <td>2009</td>\n",
              "      <td>5</td>\n",
              "      <td>23</td>\n",
              "      <td>6</td>\n",
              "      <td>1</td>\n",
              "    </tr>\n",
              "    <tr>\n",
              "      <th>2</th>\n",
              "      <td>2010-09-28</td>\n",
              "      <td>20090609231247</td>\n",
              "      <td>2010-08-02</td>\n",
              "      <td>FEMALE</td>\n",
              "      <td>56.0</td>\n",
              "      <td>basic</td>\n",
              "      <td>3</td>\n",
              "      <td>en</td>\n",
              "      <td>direct</td>\n",
              "      <td>direct</td>\n",
              "      <td>untracked</td>\n",
              "      <td>Web</td>\n",
              "      <td>Windows Desktop</td>\n",
              "      <td>IE</td>\n",
              "      <td>US</td>\n",
              "      <td>2009</td>\n",
              "      <td>6</td>\n",
              "      <td>9</td>\n",
              "      <td>2</td>\n",
              "      <td>2</td>\n",
              "    </tr>\n",
              "    <tr>\n",
              "      <th>3</th>\n",
              "      <td>2011-12-05</td>\n",
              "      <td>20091031060129</td>\n",
              "      <td>2012-09-08</td>\n",
              "      <td>FEMALE</td>\n",
              "      <td>42.0</td>\n",
              "      <td>facebook</td>\n",
              "      <td>0</td>\n",
              "      <td>en</td>\n",
              "      <td>direct</td>\n",
              "      <td>direct</td>\n",
              "      <td>untracked</td>\n",
              "      <td>Web</td>\n",
              "      <td>Mac Desktop</td>\n",
              "      <td>Firefox</td>\n",
              "      <td>other</td>\n",
              "      <td>2009</td>\n",
              "      <td>10</td>\n",
              "      <td>31</td>\n",
              "      <td>6</td>\n",
              "      <td>3</td>\n",
              "    </tr>\n",
              "    <tr>\n",
              "      <th>4</th>\n",
              "      <td>2010-09-14</td>\n",
              "      <td>20091208061105</td>\n",
              "      <td>2010-02-18</td>\n",
              "      <td>MALE</td>\n",
              "      <td>41.0</td>\n",
              "      <td>basic</td>\n",
              "      <td>0</td>\n",
              "      <td>en</td>\n",
              "      <td>direct</td>\n",
              "      <td>direct</td>\n",
              "      <td>untracked</td>\n",
              "      <td>Web</td>\n",
              "      <td>Mac Desktop</td>\n",
              "      <td>Chrome</td>\n",
              "      <td>US</td>\n",
              "      <td>2009</td>\n",
              "      <td>12</td>\n",
              "      <td>8</td>\n",
              "      <td>2</td>\n",
              "      <td>0</td>\n",
              "    </tr>\n",
              "  </tbody>\n",
              "</table>\n",
              "</div>\n",
              "      <button class=\"colab-df-convert\" onclick=\"convertToInteractive('df-c0593b2c-ea4b-4c9a-8acf-687992d22760')\"\n",
              "              title=\"Convert this dataframe to an interactive table.\"\n",
              "              style=\"display:none;\">\n",
              "        \n",
              "  <svg xmlns=\"http://www.w3.org/2000/svg\" height=\"24px\"viewBox=\"0 0 24 24\"\n",
              "       width=\"24px\">\n",
              "    <path d=\"M0 0h24v24H0V0z\" fill=\"none\"/>\n",
              "    <path d=\"M18.56 5.44l.94 2.06.94-2.06 2.06-.94-2.06-.94-.94-2.06-.94 2.06-2.06.94zm-11 1L8.5 8.5l.94-2.06 2.06-.94-2.06-.94L8.5 2.5l-.94 2.06-2.06.94zm10 10l.94 2.06.94-2.06 2.06-.94-2.06-.94-.94-2.06-.94 2.06-2.06.94z\"/><path d=\"M17.41 7.96l-1.37-1.37c-.4-.4-.92-.59-1.43-.59-.52 0-1.04.2-1.43.59L10.3 9.45l-7.72 7.72c-.78.78-.78 2.05 0 2.83L4 21.41c.39.39.9.59 1.41.59.51 0 1.02-.2 1.41-.59l7.78-7.78 2.81-2.81c.8-.78.8-2.07 0-2.86zM5.41 20L4 18.59l7.72-7.72 1.47 1.35L5.41 20z\"/>\n",
              "  </svg>\n",
              "      </button>\n",
              "      \n",
              "  <style>\n",
              "    .colab-df-container {\n",
              "      display:flex;\n",
              "      flex-wrap:wrap;\n",
              "      gap: 12px;\n",
              "    }\n",
              "\n",
              "    .colab-df-convert {\n",
              "      background-color: #E8F0FE;\n",
              "      border: none;\n",
              "      border-radius: 50%;\n",
              "      cursor: pointer;\n",
              "      display: none;\n",
              "      fill: #1967D2;\n",
              "      height: 32px;\n",
              "      padding: 0 0 0 0;\n",
              "      width: 32px;\n",
              "    }\n",
              "\n",
              "    .colab-df-convert:hover {\n",
              "      background-color: #E2EBFA;\n",
              "      box-shadow: 0px 1px 2px rgba(60, 64, 67, 0.3), 0px 1px 3px 1px rgba(60, 64, 67, 0.15);\n",
              "      fill: #174EA6;\n",
              "    }\n",
              "\n",
              "    [theme=dark] .colab-df-convert {\n",
              "      background-color: #3B4455;\n",
              "      fill: #D2E3FC;\n",
              "    }\n",
              "\n",
              "    [theme=dark] .colab-df-convert:hover {\n",
              "      background-color: #434B5C;\n",
              "      box-shadow: 0px 1px 3px 1px rgba(0, 0, 0, 0.15);\n",
              "      filter: drop-shadow(0px 1px 2px rgba(0, 0, 0, 0.3));\n",
              "      fill: #FFFFFF;\n",
              "    }\n",
              "  </style>\n",
              "\n",
              "      <script>\n",
              "        const buttonEl =\n",
              "          document.querySelector('#df-c0593b2c-ea4b-4c9a-8acf-687992d22760 button.colab-df-convert');\n",
              "        buttonEl.style.display =\n",
              "          google.colab.kernel.accessAllowed ? 'block' : 'none';\n",
              "\n",
              "        async function convertToInteractive(key) {\n",
              "          const element = document.querySelector('#df-c0593b2c-ea4b-4c9a-8acf-687992d22760');\n",
              "          const dataTable =\n",
              "            await google.colab.kernel.invokeFunction('convertToInteractive',\n",
              "                                                     [key], {});\n",
              "          if (!dataTable) return;\n",
              "\n",
              "          const docLinkHtml = 'Like what you see? Visit the ' +\n",
              "            '<a target=\"_blank\" href=https://colab.research.google.com/notebooks/data_table.ipynb>data table notebook</a>'\n",
              "            + ' to learn more about interactive tables.';\n",
              "          element.innerHTML = '';\n",
              "          dataTable['output_type'] = 'display_data';\n",
              "          await google.colab.output.renderOutput(dataTable, element);\n",
              "          const docLink = document.createElement('div');\n",
              "          docLink.innerHTML = docLinkHtml;\n",
              "          element.appendChild(docLink);\n",
              "        }\n",
              "      </script>\n",
              "    </div>\n",
              "  </div>\n",
              "  "
            ]
          },
          "metadata": {},
          "execution_count": 163
        }
      ]
    },
    {
      "cell_type": "markdown",
      "source": [
        "**Fill nan Values in age and handle outliers features before sending to Mapper and Reducer**"
      ],
      "metadata": {
        "id": "R9wFeO_rLsuv"
      }
    },
    {
      "cell_type": "code",
      "source": [
        "# Replace age > 100 with median\n",
        "train.loc[train.age > 100, 'age'] = train['age'].median()\n",
        "\n",
        "# Replace age na with median\n",
        "train['age'] = train['age'].fillna(train['age'].median())\n",
        "\n",
        "#convert to int\n",
        "all_ages = train.age\n",
        "ages_values = all_ages.values\n",
        "ages_values = [int(i) for i in ages_values]\n",
        "train[\"age\"] = ages_values"
      ],
      "metadata": {
        "id": "_mVddAiHD9CF"
      },
      "execution_count": null,
      "outputs": []
    },
    {
      "cell_type": "code",
      "source": [
        "# The number of unknown in all features\n",
        "nanAges = train.age.isna().sum()\n",
        "print('There are ', nanAges, ' unknown ages.')\n",
        "nanTime = train.timestamp_first_active.isna().sum()\n",
        "print('There are ', nanTime, ' unknown time stamp.')\n",
        "nanGender = train.gender.isna().sum()\n",
        "print('There are ', nanGender, ' unknown gender.')"
      ],
      "metadata": {
        "colab": {
          "base_uri": "https://localhost:8080/"
        },
        "id": "YjG8kxQOkR0f",
        "outputId": "e1d2a2a1-9bc6-4e6e-c1d2-2f10f6e05345"
      },
      "execution_count": null,
      "outputs": [
        {
          "output_type": "stream",
          "name": "stdout",
          "text": [
            "There are  0  unknown ages.\n",
            "There are  0  unknown time stamp.\n",
            "There are  0  unknown gender.\n"
          ]
        }
      ]
    },
    {
      "cell_type": "markdown",
      "source": [
        "**Export Train data to new csv file for Mapper and reducer**"
      ],
      "metadata": {
        "id": "hoVDMwssL4mX"
      }
    },
    {
      "cell_type": "code",
      "source": [
        "train.head()\n",
        "train.to_csv('train.csv')"
      ],
      "metadata": {
        "id": "btvxArWgL2f7"
      },
      "execution_count": null,
      "outputs": []
    },
    {
      "cell_type": "markdown",
      "source": [
        "**MapReduce Phase**\n",
        "\n",
        "1. Mapper -> divide features into (key,values) -> (Seasons,Features)List item\n",
        "2. Sort it by Season\n",
        "3.  Reducer -> perform droppping irrevelant columns and handle diffrent age values by grouping them and handle outliers\n",
        "\n",
        "\n"
      ],
      "metadata": {
        "id": "Wioz-qNaMKYI"
      }
    },
    {
      "cell_type": "code",
      "source": [
        "!cat /content/gdrive/MyDrive/BigData/Datasets/train.csv | python /content/gdrive/MyDrive/BigData/mapper_booking.py | sort  | python /content/gdrive/MyDrive/BigData/reducer_booking.py"
      ],
      "metadata": {
        "colab": {
          "base_uri": "https://localhost:8080/"
        },
        "id": "oKbaiI-PZmbs",
        "outputId": "87e5fe31-70ce-46b1-f833-435e3d5ee739"
      },
      "execution_count": null,
      "outputs": [
        {
          "output_type": "stream",
          "name": "stdout",
          "text": [
            "Start Reducer....\n",
            "        Unnamed: 0  ... age_new\n",
            "0                0  ...      30\n",
            "1                1  ...      30\n",
            "2                2  ...      40\n",
            "3                3  ...      40\n",
            "4                4  ...      30\n",
            "...            ...  ...     ...\n",
            "213446      213446  ...      30\n",
            "213447      213447  ...      50\n",
            "213448      213448  ...      40\n",
            "213449      213449  ...      40\n",
            "213450      213450  ...      30\n",
            "\n",
            "[213451 rows x 21 columns]\n"
          ]
        }
      ]
    },
    {
      "cell_type": "markdown",
      "source": [
        "**Read the output file from Mapreduce After All preprocessing and data cleaning**"
      ],
      "metadata": {
        "id": "6K8WHRX9NXt3"
      }
    },
    {
      "cell_type": "code",
      "source": [
        "final_train = pd.read_csv('final_train.csv', index_col=None)\n",
        "print(final_train.count)"
      ],
      "metadata": {
        "colab": {
          "base_uri": "https://localhost:8080/"
        },
        "id": "QDPW-YHENSy6",
        "outputId": "91e41e8b-663f-444b-e2fa-b07c7fb88af9"
      },
      "execution_count": null,
      "outputs": [
        {
          "output_type": "stream",
          "name": "stdout",
          "text": [
            "<bound method DataFrame.count of         Unnamed: 0 date_account_created date_first_booking  gender  age  \\\n",
            "0                0           2010-06-28         2010-06-28    MALE   34   \n",
            "1                1           2011-05-25         2011-05-25    MALE   38   \n",
            "2                2           2010-09-28         2010-08-02  FEMALE   56   \n",
            "3                3           2011-12-05         2012-09-08  FEMALE   42   \n",
            "4                4           2010-09-14         2010-02-18    MALE   41   \n",
            "...            ...                  ...                ...     ...  ...   \n",
            "213446      213446           2014-06-30         2014-06-30    MALE   32   \n",
            "213447      213447           2014-06-30         2014-06-30  FEMALE   34   \n",
            "213448      213448           2014-06-30         2014-06-30    MALE   32   \n",
            "213449      213449           2014-06-30         2014-06-30    MALE   34   \n",
            "213450      213450           2014-06-30         2014-06-30  FEMALE   34   \n",
            "\n",
            "       signup_method  signup_flow language affiliate_channel  \\\n",
            "0           facebook            0       en            direct   \n",
            "1           facebook            0       en               seo   \n",
            "2              basic            3       en            direct   \n",
            "3           facebook            0       en            direct   \n",
            "4              basic            0       en            direct   \n",
            "...              ...          ...      ...               ...   \n",
            "213446         basic            0       en         sem-brand   \n",
            "213447         basic            0       en            direct   \n",
            "213448         basic            0       en            direct   \n",
            "213449         basic           25       en             other   \n",
            "213450         basic           25       en            direct   \n",
            "\n",
            "       affiliate_provider  ... signup_app first_device_type  first_browser  \\\n",
            "0                  direct  ...        Web       Mac Desktop         Chrome   \n",
            "1                  google  ...        Web       Mac Desktop         Chrome   \n",
            "2                  direct  ...        Web   Windows Desktop             IE   \n",
            "3                  direct  ...        Web       Mac Desktop        Firefox   \n",
            "4                  direct  ...        Web       Mac Desktop         Chrome   \n",
            "...                   ...  ...        ...               ...            ...   \n",
            "213446             google  ...        Web       Mac Desktop         Safari   \n",
            "213447             direct  ...        Web   Windows Desktop         Chrome   \n",
            "213448             direct  ...        Web       Mac Desktop        Firefox   \n",
            "213449              other  ...        iOS            iPhone  Mobile Safari   \n",
            "213450             direct  ...        iOS            iPhone      -unknown-   \n",
            "\n",
            "       country_destination time_year  time_month  time_day  time_weekday  \\\n",
            "0                      NDF      2009           3        19             4   \n",
            "1                      NDF      2009           5        23             6   \n",
            "2                       US      2009           6         9             2   \n",
            "3                    other      2009          10        31             6   \n",
            "4                       US      2009          12         8             2   \n",
            "...                    ...       ...         ...       ...           ...   \n",
            "213446                 NDF      2014           6        30             1   \n",
            "213447                 NDF      2014           6        30             1   \n",
            "213448                 NDF      2014           6        30             1   \n",
            "213449                 NDF      2014           6        30             1   \n",
            "213450                 NDF      2014           6        30             1   \n",
            "\n",
            "        time_season  age_new  \n",
            "0                 1       30  \n",
            "1                 1       30  \n",
            "2                 2       40  \n",
            "3                 3       40  \n",
            "4                 0       30  \n",
            "...             ...      ...  \n",
            "213446            2       30  \n",
            "213447            2       50  \n",
            "213448            2       40  \n",
            "213449            2       40  \n",
            "213450            2       30  \n",
            "\n",
            "[213451 rows x 21 columns]>\n"
          ]
        }
      ]
    },
    {
      "cell_type": "code",
      "source": [
        ""
      ],
      "metadata": {
        "id": "5sb4rGIaN4tL"
      },
      "execution_count": null,
      "outputs": []
    },
    {
      "cell_type": "markdown",
      "source": [
        "**Encoding categorical to numerical values**"
      ],
      "metadata": {
        "id": "Ya3lRnKLYXUy"
      }
    },
    {
      "cell_type": "code",
      "source": [
        "from sklearn.feature_selection import chi2\n",
        "from sklearn.preprocessing import StandardScaler, MinMaxScaler, Normalizer\n",
        "from sklearn.preprocessing import LabelEncoder\n",
        "\n",
        "\t\t\t\t\t\n",
        "\n",
        "\n",
        "le = LabelEncoder()\n",
        "final_train[\"gender\"] = le.fit_transform(final_train[[\"gender\"]])\n",
        "final_train[\"language\"] = le.fit_transform(final_train[[\"language\"]])\n",
        "final_train[\"affiliate_channel\"] = le.fit_transform(final_train[[\"affiliate_channel\"]])\n",
        "final_train[\"affiliate_provider\"] = le.fit_transform(final_train[[\"affiliate_provider\"]])\n",
        "final_train[\"signup_app\"] = le.fit_transform(final_train[[\"signup_app\"]])\n",
        "final_train[\"first_affiliate_tracked\"] = le.fit_transform(final_train[[\"first_affiliate_tracked\"]])\n",
        "final_train[\"first_device_type\"] = le.fit_transform(final_train[[\"first_device_type\"]])\n",
        "final_train[\"first_browser\"] = le.fit_transform(final_train[[\"first_browser\"]])\n",
        "final_train[\"age_new\"] = le.fit_transform(train[[\"first_browser\"]])\n",
        "final_train[\"dest\"] = le.fit_transform(final_train[[\"country_destination\"]])"
      ],
      "metadata": {
        "colab": {
          "base_uri": "https://localhost:8080/"
        },
        "id": "1yb5W5eyKBPG",
        "outputId": "41fa5685-f37b-4c51-9469-6c474cc2c524"
      },
      "execution_count": null,
      "outputs": [
        {
          "output_type": "stream",
          "name": "stderr",
          "text": [
            "/usr/local/lib/python3.7/dist-packages/sklearn/preprocessing/_label.py:115: DataConversionWarning: A column-vector y was passed when a 1d array was expected. Please change the shape of y to (n_samples, ), for example using ravel().\n",
            "  y = column_or_1d(y, warn=True)\n"
          ]
        }
      ]
    },
    {
      "cell_type": "code",
      "source": [
        "#correlations\n",
        "#get correlation between features and output\n",
        "correlation_matrix = final_train.corr()\n",
        "best_feat = correlation_matrix.index\n",
        "plt.figure(figsize=(20,20))\n",
        "g=sns.heatmap(final_train[best_feat].corr(),annot=True,cmap=\"RdYlGn\")"
      ],
      "metadata": {
        "id": "I8zj8c-CBN4n",
        "colab": {
          "base_uri": "https://localhost:8080/",
          "height": 1000
        },
        "outputId": "045d4ad5-0067-420c-fc3b-32466b280323"
      },
      "execution_count": null,
      "outputs": [
        {
          "output_type": "display_data",
          "data": {
            "text/plain": [
              "<Figure size 1440x1440 with 2 Axes>"
            ],
            "image/png": "[encoded data removed]"
          },
          "metadata": {
            "needs_background": "light"
          }
        }
      ]
    }
  ],
  "metadata": {
    "interpreter": {
      "hash": "2761561acc035fe7ad495a167e21a4a7bf34c38ee3db4eae9ee9ebaf79845087"
    },
    "kernelspec": {
      "display_name": "Python 3",
      "language": "python",
      "name": "python3"
    },
    "language_info": {
      "codemirror_mode": {
        "name": "ipython",
        "version": 3
      },
      "file_extension": ".py",
      "mimetype": "text/x-python",
      "name": "python",
      "nbconvert_exporter": "python",
      "pygments_lexer": "ipython3",
      "version": "3.8.8"
    },
    "colab": {
      "name": "Main.ipynb",
      "provenance": [],
      "collapsed_sections": []
    }
  },
  "nbformat": 4,
  "nbformat_minor": 0
}